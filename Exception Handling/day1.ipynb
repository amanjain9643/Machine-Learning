{
 "cells": [
  {
   "cell_type": "code",
   "execution_count": 2,
   "id": "5661519a",
   "metadata": {},
   "outputs": [
    {
     "name": "stdout",
     "output_type": "stream",
     "text": [
      "can't divide by 0\n"
     ]
    }
   ],
   "source": [
    "try:\n",
    "    print(5/0)\n",
    "except ZeroDivisionError:\n",
    "    print(\"can't divide by 0\")\n"
   ]
  },
  {
   "cell_type": "code",
   "execution_count": 5,
   "id": "eaabc89f",
   "metadata": {},
   "outputs": [
    {
     "name": "stdout",
     "output_type": "stream",
     "text": [
      "THEEK\n"
     ]
    }
   ],
   "source": [
    "try:\n",
    "    f=open('sample.txt','r')\n",
    "except FileNotFoundError:\n",
    "    print(\"FILE NA MIL RAHI\")\n",
    "except:\n",
    "    print(\"CHAL BE\")\n",
    "else:\n",
    "    print(\"THEEK\")\n"
   ]
  },
  {
   "cell_type": "code",
   "execution_count": 8,
   "id": "df8d0346",
   "metadata": {},
   "outputs": [
    {
     "name": "stdout",
     "output_type": "stream",
     "text": [
      "FILE NA MIL RAHI\n",
      "ise print karade\n"
     ]
    }
   ],
   "source": [
    "try:\n",
    "    f=open('sample1.txt','r')\n",
    "except FileNotFoundError:\n",
    "    print(\"FILE NA MIL RAHI\")\n",
    "except:\n",
    "    print(\"CHAL BE\")\n",
    "else:\n",
    "    print(\"THEEK\")\n",
    "finally:\n",
    "    print(\"ise print karade\")"
   ]
  },
  {
   "cell_type": "code",
   "execution_count": 10,
   "id": "6dc1b674",
   "metadata": {},
   "outputs": [
    {
     "ename": "FileNotFoundError",
     "evalue": "m jasoos hu",
     "output_type": "error",
     "traceback": [
      "\u001b[31m---------------------------------------------------------------------------\u001b[39m",
      "\u001b[31mFileNotFoundError\u001b[39m                         Traceback (most recent call last)",
      "\u001b[36mCell\u001b[39m\u001b[36m \u001b[39m\u001b[32mIn[10]\u001b[39m\u001b[32m, line 1\u001b[39m\n\u001b[32m----> \u001b[39m\u001b[32m1\u001b[39m \u001b[38;5;28;01mraise\u001b[39;00m \u001b[38;5;167;01mFileNotFoundError\u001b[39;00m(\u001b[33m\"\u001b[39m\u001b[33mm jasoos hu\u001b[39m\u001b[33m\"\u001b[39m)\n",
      "\u001b[31mFileNotFoundError\u001b[39m: m jasoos hu"
     ]
    }
   ],
   "source": [
    "raise FileNotFoundError(\"m jasoos hu\")"
   ]
  },
  {
   "cell_type": "code",
   "execution_count": 16,
   "id": "fa755800",
   "metadata": {},
   "outputs": [
    {
     "name": "stdout",
     "output_type": "stream",
     "text": [
      "amt can't be negative\n"
     ]
    }
   ],
   "source": [
    "class Bank:\n",
    "    def __init__(self,balance):\n",
    "        self.balance=balance\n",
    "    \n",
    "    def withdraw(self,amt):\n",
    "        if amt<0:\n",
    "            raise Exception(\"amt can't be negative\")\n",
    "        if amt>self.balance:\n",
    "            raise Exception(\"paise na h tujhpe\")\n",
    "        self.balance=self.balance-amt\n",
    "\n",
    "obj =Bank(10000)\n",
    "try:\n",
    "    obj.withdraw(-12000)\n",
    "except Exception as e:\n",
    "    print(e)\n",
    "else:\n",
    "    print(obj.balance)"
   ]
  },
  {
   "cell_type": "code",
   "execution_count": 19,
   "id": "55b6863a",
   "metadata": {},
   "outputs": [
    {
     "name": "stdout",
     "output_type": "stream",
     "text": [
      "amt can't be negative\n"
     ]
    }
   ],
   "source": [
    "class MyException(Exception):\n",
    "    def __init__(self,message):\n",
    "        print(message)\n",
    "class Bank:\n",
    "    def __init__(self,balance):\n",
    "        self.balance=balance\n",
    "    \n",
    "    def withdraw(self,amt):\n",
    "        if amt<0:\n",
    "            raise MyException(\"amt can't be negative\")\n",
    "        if amt>self.balance:\n",
    "            raise MyException(\"paise na h tujhpe\")\n",
    "        self.balance=self.balance-amt\n",
    "\n",
    "obj =Bank(10000)\n",
    "try:\n",
    "    obj.withdraw(-12000)\n",
    "except MyException as e:\n",
    "    pass\n",
    "else:\n",
    "    print(obj.balance)"
   ]
  },
  {
   "cell_type": "code",
   "execution_count": 25,
   "id": "a51823ba",
   "metadata": {},
   "outputs": [
    {
     "name": "stdout",
     "output_type": "stream",
     "text": [
      "logout\n",
      "DATABASE CLOSED\n"
     ]
    }
   ],
   "source": [
    "class SecurityError(Exception):\n",
    "    def __inti__(self,message):\n",
    "        print(message)\n",
    "    def logout(self):\n",
    "        print(\"logout\")\n",
    "\n",
    "class Google:\n",
    "    def __init__(self,name,email,password,device):\n",
    "        self.name=name\n",
    "        self.email=email\n",
    "        self.password=password  \n",
    "        self.device=device\n",
    "    def login(self,name,email,password,device):\n",
    "        if device!=self.device:\n",
    "            raise SecurityError(\"TU TO GAYA BETE\")\n",
    "        elif  email==self.email and password==self.password:\n",
    "            print(\"WELCOME\")\n",
    "        else:\n",
    "            print(\"login error\")\n",
    "\n",
    "obj=Google('am','aman@gmail.com',\"aman\",'windows')\n",
    "\n",
    "try:\n",
    "    obj.login('am','aman@gmail.com',\"aman\",'macos')\n",
    "except SecurityError as e:\n",
    "    e.logout()\n",
    "else :\n",
    "    print(self.name)\n",
    "finally:\n",
    "    print(\"DATABASE CLOSED\")\n"
   ]
  },
  {
   "cell_type": "code",
   "execution_count": 28,
   "id": "8d69d54c",
   "metadata": {},
   "outputs": [],
   "source": [
    "def print(L):\n",
    "    pass\n",
    "L=[1,2,3]\n",
    "print(L)"
   ]
  },
  {
   "cell_type": "code",
   "execution_count": null,
   "id": "7fda63e1",
   "metadata": {},
   "outputs": [],
   "source": []
  }
 ],
 "metadata": {
  "kernelspec": {
   "display_name": "virenv",
   "language": "python",
   "name": "python3"
  },
  "language_info": {
   "codemirror_mode": {
    "name": "ipython",
    "version": 3
   },
   "file_extension": ".py",
   "mimetype": "text/x-python",
   "name": "python",
   "nbconvert_exporter": "python",
   "pygments_lexer": "ipython3",
   "version": "3.12.7"
  }
 },
 "nbformat": 4,
 "nbformat_minor": 5
}
