{
 "cells": [
  {
   "cell_type": "code",
   "execution_count": 17,
   "id": "b8b3d393",
   "metadata": {},
   "outputs": [
    {
     "name": "stdout",
     "output_type": "stream",
     "text": [
      "__module__\n",
      "__init__\n",
      "set_city\n",
      "get_city\n",
      "set_age\n",
      "get_age\n",
      "adress\n",
      "i\n",
      "__dict__\n",
      "__weakref__\n",
      "__doc__\n"
     ]
    }
   ],
   "source": [
    "class Person:\n",
    "    def __init__(self,name,state):\n",
    "        self.name=name\n",
    "        self.state=state\n",
    "        self.__city=None\n",
    "        self.__age=None\n",
    "\n",
    "    def set_city(self, city):\n",
    "        self.__city = city\n",
    "    def get_city(self):\n",
    "        return self.__city\n",
    "    def set_age(self, age):\n",
    "        self.__age = age\n",
    "    def get_age(self):\n",
    "        return self.__age\n",
    "\n",
    "    def adress(self):\n",
    "        return f'{self.name},{self.__city},{self.state}'\n",
    "    for i in Person.__dict__:\n",
    "        print(i)"
   ]
  },
  {
   "cell_type": "code",
   "execution_count": 18,
   "id": "ad1a2e4b",
   "metadata": {},
   "outputs": [
    {
     "name": "stdout",
     "output_type": "stream",
     "text": [
      "Address:  Raj,Kolkata,West Bengal\n",
      "name\n",
      "state\n",
      "_Person__city\n",
      "_Person__age\n"
     ]
    }
   ],
   "source": [
    "p = Person(\"Raj\", \"West Bengal\")\n",
    "p.set_city(\"Kolkata\")\n",
    "p.set_age(40)\n",
    "print(\"Address: \", p.adress())\n",
    "\n",
    "for i in p.__dict__:\n",
    "    print(i)"
   ]
  },
  {
   "cell_type": "code",
   "execution_count": 22,
   "id": "5569848b",
   "metadata": {},
   "outputs": [
    {
     "name": "stdout",
     "output_type": "stream",
     "text": [
      "500 4\n"
     ]
    }
   ],
   "source": [
    "cnt=1\n",
    "def gcd(a , b ):\n",
    "    global cnt\n",
    "    cnt+=1\n",
    "    if b==0:\n",
    "        return a \n",
    "    else :\n",
    "        return gcd(b,a%b)\n",
    "print(gcd(500,1000),cnt)"
   ]
  },
  {
   "cell_type": "code",
   "execution_count": null,
   "id": "2c57eaf4",
   "metadata": {},
   "outputs": [],
   "source": []
  }
 ],
 "metadata": {
  "kernelspec": {
   "display_name": "virenv",
   "language": "python",
   "name": "python3"
  },
  "language_info": {
   "codemirror_mode": {
    "name": "ipython",
    "version": 3
   },
   "file_extension": ".py",
   "mimetype": "text/x-python",
   "name": "python",
   "nbconvert_exporter": "python",
   "pygments_lexer": "ipython3",
   "version": "3.12.7"
  }
 },
 "nbformat": 4,
 "nbformat_minor": 5
}
