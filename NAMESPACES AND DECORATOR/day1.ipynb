{
 "cells": [
  {
   "cell_type": "markdown",
   "id": "00e72095",
   "metadata": {},
   "source": [
    "<H1>DECORATORS</H1>"
   ]
  },
  {
   "cell_type": "code",
   "execution_count": 3,
   "id": "b14d7556",
   "metadata": {},
   "outputs": [
    {
     "data": {
      "text/plain": [
       "64"
      ]
     },
     "execution_count": 3,
     "metadata": {},
     "output_type": "execute_result"
    }
   ],
   "source": [
    "def modify1(func,num):\n",
    "    return func(num)\n",
    "\n",
    "def square(num):\n",
    "    return num**2\n",
    "\n",
    "\n",
    "modify1(square,8)"
   ]
  },
  {
   "cell_type": "code",
   "execution_count": 21,
   "id": "10c57f5a",
   "metadata": {},
   "outputs": [],
   "source": [
    "def decorator(func,num):\n",
    "    print(\"xxxxxxxx***********xxxxxxxx\")\n",
    "    func(num)\n",
    "    print(\"xxxxxxxx***********xxxxxxxx\")\n"
   ]
  },
  {
   "cell_type": "code",
   "execution_count": 42,
   "id": "616cbe70",
   "metadata": {},
   "outputs": [
    {
     "ename": "TypeError",
     "evalue": "decorator() missing 1 required positional argument: 'num'",
     "output_type": "error",
     "traceback": [
      "\u001b[31m---------------------------------------------------------------------------\u001b[39m",
      "\u001b[31mTypeError\u001b[39m                                 Traceback (most recent call last)",
      "\u001b[36mCell\u001b[39m\u001b[36m \u001b[39m\u001b[32mIn[42]\u001b[39m\u001b[32m, line 1\u001b[39m\n\u001b[32m----> \u001b[39m\u001b[32m1\u001b[39m \u001b[38;5;129;43m@decorator\u001b[39;49m\n\u001b[32m      2\u001b[39m \u001b[38;5;28;43;01mdef\u001b[39;49;00m\u001b[38;5;250;43m \u001b[39;49m\u001b[34;43msquare\u001b[39;49m\u001b[43m(\u001b[49m\u001b[43mnum\u001b[49m\u001b[43m)\u001b[49m\u001b[43m:\u001b[49m\n\u001b[32m      3\u001b[39m \u001b[43m    \u001b[49m\u001b[38;5;28;43mprint\u001b[39;49m\u001b[43m(\u001b[49m\u001b[33;43m\"\u001b[39;49m\u001b[38;5;130;43;01m\\t\u001b[39;49;00m\u001b[33;43m\"\u001b[39;49m\u001b[43m,\u001b[49m\u001b[43mnum\u001b[49m\u001b[43m*\u001b[49m\u001b[43m*\u001b[49m\u001b[32;43m2\u001b[39;49m\u001b[43m)\u001b[49m\n",
      "\u001b[31mTypeError\u001b[39m: decorator() missing 1 required positional argument: 'num'"
     ]
    }
   ],
   "source": [
    "@decorator\n",
    "def square(num):\n",
    "    print(\"\\t\",num**2)"
   ]
  },
  {
   "cell_type": "code",
   "execution_count": 32,
   "id": "7d97f132",
   "metadata": {},
   "outputs": [
    {
     "name": "stdout",
     "output_type": "stream",
     "text": [
      "xxxxxxxx***********xxxxxxxx\n",
      "\t 4\n",
      "xxxxxxxx***********xxxxxxxx\n"
     ]
    }
   ],
   "source": [
    "decorator(square,2)"
   ]
  },
  {
   "cell_type": "code",
   "execution_count": 2,
   "id": "0098d8c6",
   "metadata": {},
   "outputs": [
    {
     "name": "stdout",
     "output_type": "stream",
     "text": [
      "********************\n",
      "HELLO\n",
      "********************\n",
      "********************\n",
      "hello jaini\n",
      "********************\n"
     ]
    }
   ],
   "source": [
    "def my_decorator(func):\n",
    "    def wrapper():\n",
    "        print(\"********************\")\n",
    "        func()\n",
    "        print(\"********************\")\n",
    "\n",
    "    return wrapper\n",
    "\n",
    "@my_decorator\n",
    "def hello():\n",
    "    print(\"HELLO\")\n",
    "\n",
    "hello()\n",
    "@my_decorator\n",
    "def display():\n",
    "    print(\"hello jaini\")\n",
    "\n",
    "display()"
   ]
  },
  {
   "cell_type": "code",
   "execution_count": 40,
   "id": "4035bb42",
   "metadata": {},
   "outputs": [
    {
     "name": "stdout",
     "output_type": "stream",
     "text": [
      "5\n"
     ]
    }
   ],
   "source": [
    "def outer():\n",
    "    a=5\n",
    "    def inner():\n",
    "        print(a)\n",
    "    return inner\n",
    "\n",
    "outer()()"
   ]
  },
  {
   "cell_type": "code",
   "execution_count": 3,
   "id": "e0cc3de8",
   "metadata": {},
   "outputs": [],
   "source": [
    "# TIMER "
   ]
  },
  {
   "cell_type": "code",
   "execution_count": 9,
   "id": "3a92b687",
   "metadata": {},
   "outputs": [
    {
     "name": "stdout",
     "output_type": "stream",
     "text": [
      "hello\n",
      "functions hello 2.005143165588379 secs\n",
      "display\n",
      "functions display 4.00504994392395 secs\n"
     ]
    }
   ],
   "source": [
    "import time \n",
    "\n",
    "def timer(func):\n",
    "    def wrapper(*args):\n",
    "        start=time.time()\n",
    "        func(*args)\n",
    "        print(\"functions\",func.__name__,time.time()-start,\"secs\")\n",
    "    return wrapper\n",
    "\n",
    "@timer\n",
    "def hello():\n",
    "    print(\"hello\")\n",
    "    time.sleep(2)\n",
    "\n",
    "@timer\n",
    "def display():\n",
    "    print(\"display\")\n",
    "    time.sleep(4)\n",
    "\n",
    "hello()\n",
    "display()\n"
   ]
  },
  {
   "cell_type": "code",
   "execution_count": 13,
   "id": "a21f1621",
   "metadata": {},
   "outputs": [
    {
     "name": "stdout",
     "output_type": "stream",
     "text": [
      "8\n",
      "functions power 5.7220458984375e-05 secs\n"
     ]
    }
   ],
   "source": [
    "@timer\n",
    "def square(num):\n",
    "    time.sleep(1)\n",
    "    print(num**2)\n",
    "\n",
    "@timer\n",
    "def power(a,b):\n",
    "    print(a**b)\n",
    "\n",
    "power(2,3)"
   ]
  },
  {
   "cell_type": "code",
   "execution_count": 14,
   "id": "262ee665",
   "metadata": {},
   "outputs": [],
   "source": [
    "# SECOND DECORATOR"
   ]
  },
  {
   "cell_type": "code",
   "execution_count": null,
   "id": "f4314680",
   "metadata": {},
   "outputs": [],
   "source": [
    "@checkdt(int)\n",
    "def square(num):\n",
    "    print(num**2)"
   ]
  },
  {
   "cell_type": "code",
   "execution_count": null,
   "id": "bab223e2",
   "metadata": {},
   "outputs": [
    {
     "ename": "TypeError",
     "evalue": "unsupported operand type(s) for ** or pow(): 'str' and 'int'",
     "output_type": "error",
     "traceback": [
      "\u001b[31m---------------------------------------------------------------------------\u001b[39m",
      "\u001b[31mTypeError\u001b[39m                                 Traceback (most recent call last)",
      "\u001b[36mCell\u001b[39m\u001b[36m \u001b[39m\u001b[32mIn[17]\u001b[39m\u001b[32m, line 1\u001b[39m\n\u001b[32m----> \u001b[39m\u001b[32m1\u001b[39m \u001b[43msquare\u001b[49m\u001b[43m(\u001b[49m\u001b[33;43m\"\u001b[39;49m\u001b[33;43mhehe\u001b[39;49m\u001b[33;43m\"\u001b[39;49m\u001b[43m)\u001b[49m\n",
      "\u001b[36mCell\u001b[39m\u001b[36m \u001b[39m\u001b[32mIn[15]\u001b[39m\u001b[32m, line 2\u001b[39m, in \u001b[36msquare\u001b[39m\u001b[34m(num)\u001b[39m\n\u001b[32m      1\u001b[39m \u001b[38;5;28;01mdef\u001b[39;00m\u001b[38;5;250m \u001b[39m\u001b[34msquare\u001b[39m(num):\n\u001b[32m----> \u001b[39m\u001b[32m2\u001b[39m     \u001b[38;5;28mprint\u001b[39m(\u001b[43mnum\u001b[49m\u001b[43m*\u001b[49m\u001b[43m*\u001b[49m\u001b[32;43m2\u001b[39;49m)\n",
      "\u001b[31mTypeError\u001b[39m: unsupported operand type(s) for ** or pow(): 'str' and 'int'"
     ]
    }
   ],
   "source": [
    "square(\"hehe\")"
   ]
  },
  {
   "cell_type": "code",
   "execution_count": 29,
   "id": "6c9827a1",
   "metadata": {},
   "outputs": [],
   "source": [
    "def sanity_check(data_type):\n",
    "    def outer_wrapper(func):\n",
    "        def inner_wrapper(*args):\n",
    "            if type(*args)==data_type:\n",
    "                func(*args)\n",
    "            else:\n",
    "                raise TypeError(\"YE DATA TYPE NA CHALEGA MERE BHAI\")\n",
    "        return inner_wrapper\n",
    "    return outer_wrapper"
   ]
  },
  {
   "cell_type": "code",
   "execution_count": 30,
   "id": "48c9c0e0",
   "metadata": {},
   "outputs": [],
   "source": [
    "@sanity_check(int)\n",
    "def square(num):\n",
    "    print(num**2)"
   ]
  },
  {
   "cell_type": "code",
   "execution_count": 31,
   "id": "c997a82e",
   "metadata": {},
   "outputs": [
    {
     "ename": "TypeError",
     "evalue": "YE DATA TYPE NA CHALEGA MERE BHAI",
     "output_type": "error",
     "traceback": [
      "\u001b[31m---------------------------------------------------------------------------\u001b[39m",
      "\u001b[31mTypeError\u001b[39m                                 Traceback (most recent call last)",
      "\u001b[36mCell\u001b[39m\u001b[36m \u001b[39m\u001b[32mIn[31]\u001b[39m\u001b[32m, line 1\u001b[39m\n\u001b[32m----> \u001b[39m\u001b[32m1\u001b[39m \u001b[43msquare\u001b[49m\u001b[43m(\u001b[49m\u001b[33;43m\"\u001b[39;49m\u001b[33;43mhello\u001b[39;49m\u001b[33;43m\"\u001b[39;49m\u001b[43m)\u001b[49m\n",
      "\u001b[36mCell\u001b[39m\u001b[36m \u001b[39m\u001b[32mIn[29]\u001b[39m\u001b[32m, line 7\u001b[39m, in \u001b[36msanity_check.<locals>.outer_wrapper.<locals>.inner_wrapper\u001b[39m\u001b[34m(*args)\u001b[39m\n\u001b[32m      5\u001b[39m     func(*args)\n\u001b[32m      6\u001b[39m \u001b[38;5;28;01melse\u001b[39;00m:\n\u001b[32m----> \u001b[39m\u001b[32m7\u001b[39m     \u001b[38;5;28;01mraise\u001b[39;00m \u001b[38;5;167;01mTypeError\u001b[39;00m(\u001b[33m\"\u001b[39m\u001b[33mYE DATA TYPE NA CHALEGA MERE BHAI\u001b[39m\u001b[33m\"\u001b[39m)\n",
      "\u001b[31mTypeError\u001b[39m: YE DATA TYPE NA CHALEGA MERE BHAI"
     ]
    }
   ],
   "source": [
    "square(\"hello\")"
   ]
  },
  {
   "cell_type": "code",
   "execution_count": 33,
   "id": "84079a0d",
   "metadata": {},
   "outputs": [
    {
     "name": "stdout",
     "output_type": "stream",
     "text": [
      "raja\n"
     ]
    }
   ],
   "source": [
    "@sanity_check(str)\n",
    "def greet(name):\n",
    "    print(name)\n",
    "\n",
    "greet(\"raja\")"
   ]
  },
  {
   "cell_type": "code",
   "execution_count": null,
   "id": "b0460593",
   "metadata": {},
   "outputs": [
    {
     "name": "stdout",
     "output_type": "stream",
     "text": [
      "12\n"
     ]
    }
   ],
   "source": [
    "def multiply(a,b):\n",
    "    result=0\n",
    "    for i in range(b):\n",
    "        result=result+a\n",
    "    print(result)\n",
    "\n",
    "multiply(3,4)"
   ]
  },
  {
   "cell_type": "code",
   "execution_count": null,
   "id": "8c2dc91c",
   "metadata": {},
   "outputs": [],
   "source": []
  }
 ],
 "metadata": {
  "kernelspec": {
   "display_name": "virenv",
   "language": "python",
   "name": "python3"
  },
  "language_info": {
   "codemirror_mode": {
    "name": "ipython",
    "version": 3
   },
   "file_extension": ".py",
   "mimetype": "text/x-python",
   "name": "python",
   "nbconvert_exporter": "python",
   "pygments_lexer": "ipython3",
   "version": "3.12.7"
  }
 },
 "nbformat": 4,
 "nbformat_minor": 5
}
