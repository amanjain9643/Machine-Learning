{
 "cells": [
  {
   "cell_type": "markdown",
   "id": "0b080fa2",
   "metadata": {},
   "source": [
    "<h1>OOPS TASKS</h1>"
   ]
  },
  {
   "cell_type": "markdown",
   "id": "b8f8a446",
   "metadata": {},
   "source": []
  },
  {
   "cell_type": "code",
   "execution_count": 6,
   "id": "6136e585",
   "metadata": {},
   "outputs": [],
   "source": [
    "class Car:\n",
    "    counter=0\n",
    "\n",
    "    def __init__(self):\n",
    "        Car.counter=Car.counter+1\n",
    "    \n",
    "    def get_counter():\n",
    "        return Car.counter\n"
   ]
  },
  {
   "cell_type": "code",
   "execution_count": 7,
   "id": "11d3be4a",
   "metadata": {},
   "outputs": [],
   "source": [
    "c1=Car()"
   ]
  },
  {
   "cell_type": "code",
   "execution_count": 8,
   "id": "0a15f079",
   "metadata": {},
   "outputs": [],
   "source": [
    "c2=Car()\n"
   ]
  },
  {
   "cell_type": "code",
   "execution_count": 9,
   "id": "0c7c31a8",
   "metadata": {},
   "outputs": [],
   "source": [
    "c3=Car()\n"
   ]
  },
  {
   "cell_type": "code",
   "execution_count": 10,
   "id": "b741696f",
   "metadata": {},
   "outputs": [
    {
     "data": {
      "text/plain": [
       "3"
      ]
     },
     "execution_count": 10,
     "metadata": {},
     "output_type": "execute_result"
    }
   ],
   "source": [
    "Car.counter"
   ]
  },
  {
   "cell_type": "code",
   "execution_count": 17,
   "id": "18aced28",
   "metadata": {},
   "outputs": [],
   "source": [
    "class Rectange:\n",
    "\n",
    "    def __init__(self,l,b):\n",
    "        self.l=l\n",
    "        self.b=b\n",
    "\n",
    "    @classmethod\n",
    "    def property(cls,len,bre):\n",
    "        return cls(len,bre)\n",
    "    def area(self):\n",
    "        return self.l*self.b\n",
    "\n",
    "    def is_square(self):\n",
    "        # (self.l==self.b ? return True:return False)\n",
    "        return True if self.l==self.b else False"
   ]
  },
  {
   "cell_type": "code",
   "execution_count": 18,
   "id": "e20cded8",
   "metadata": {},
   "outputs": [],
   "source": [
    "R1=Rectange.property(3,4)"
   ]
  },
  {
   "cell_type": "code",
   "execution_count": null,
   "id": "6d9f1905",
   "metadata": {},
   "outputs": [],
   "source": []
  },
  {
   "cell_type": "code",
   "execution_count": 19,
   "id": "c7e6ed8d",
   "metadata": {},
   "outputs": [
    {
     "data": {
      "text/plain": [
       "12"
      ]
     },
     "execution_count": 19,
     "metadata": {},
     "output_type": "execute_result"
    }
   ],
   "source": [
    "R1.area()"
   ]
  },
  {
   "cell_type": "code",
   "execution_count": 32,
   "id": "9b90f9ee",
   "metadata": {},
   "outputs": [
    {
     "name": "stdout",
     "output_type": "stream",
     "text": [
      "Product expire already\n"
     ]
    }
   ],
   "source": [
    "import datetime\n",
    "\n",
    "class Product:\n",
    "    def __init__(self):\n",
    "        self.mfg=input(\"enter manufactring date (MM/DD/YYYY)\")\n",
    "        self.exp=input(\"enter expiry date (MM/DD/YYYY)\")\n",
    "\n",
    "        self.mfg=datetime.datetime.strptime(self.mfg,'%m/%d/%Y')\n",
    "        self.exp=datetime.datetime.strptime(self.exp,'%m/%d/%Y')\n",
    "    \n",
    "    def time_to_expiry(self):\n",
    "        today=datetime.datetime.now()\n",
    "\n",
    "        if today>self.exp:\n",
    "            print(\"Product expire already\")\n",
    "        else :\n",
    "            time_left=self.exp.date()-today.date()\n",
    "            print(time_left)\n",
    "obj=Product()\n",
    "obj.time_to_expiry()"
   ]
  },
  {
   "cell_type": "code",
   "execution_count": 66,
   "id": "f372c86b",
   "metadata": {},
   "outputs": [],
   "source": [
    "class Student:\n",
    "    def __init__(self):\n",
    "        self.__sid=0\n",
    "        self.__marks=0\n",
    "        self.__age=0\n",
    "    def validate_age(self):\n",
    "        return True if self.__age>20 else False\n",
    "    \n",
    "    def validate_marks(self):\n",
    "        return True if self.__marks>=65 else False\n",
    "\n",
    "    def check_qualification(self):\n",
    "        return True if self.validate_age() and self.validate_marks() else False\n",
    "    \n",
    "    def set_stid(self,sid):\n",
    "        self.__sid=sid\n",
    "    def get_stid(self):\n",
    "        return self.__sid\n",
    "    \n",
    "    def set_marks(self,marks):\n",
    "        self.__marks=marks\n",
    "    def get_marks(self):\n",
    "        return self.__marks\n",
    "    \n",
    "    def set_age(self,age):\n",
    "        self.__age=age\n",
    "    def get_age(self):\n",
    "        return self.__age"
   ]
  },
  {
   "cell_type": "code",
   "execution_count": 67,
   "id": "56fb26c2",
   "metadata": {},
   "outputs": [],
   "source": [
    "S=Student()\n",
    "S.set_age(21)\n",
    "S.set_marks(70)\n",
    "S.set_stid(123)"
   ]
  },
  {
   "cell_type": "code",
   "execution_count": 69,
   "id": "5e063157",
   "metadata": {},
   "outputs": [
    {
     "name": "stdout",
     "output_type": "stream",
     "text": [
      "21\n",
      "70\n",
      "123\n"
     ]
    }
   ],
   "source": [
    "print(S.get_age())\n",
    "print(S.get_marks())\n",
    "print(S.get_stid())"
   ]
  },
  {
   "cell_type": "code",
   "execution_count": 8,
   "id": "e796244d",
   "metadata": {},
   "outputs": [],
   "source": [
    "class Scoop:\n",
    "\n",
    "    __counter=0\n",
    "    def __init__(self,flavor):\n",
    "        Scoop.__counter=Scoop.__counter+1\n",
    "        self.flavor=flavor\n",
    "        self.__price=0\n",
    "\n",
    "    def get_price(self):\n",
    "        return self.__price\n",
    "    def set_price(self,price):\n",
    "        self.__price=price\n",
    "\n",
    "    def __str__(self):\n",
    "        return \"FLAVOUT-{} AND PRICE-{}\".format(self.flavor,self.__price)\n",
    "\n",
    "    @staticmethod\n",
    "    def sold():\n",
    "        return Scoop.__counter\n",
    "    \n",
    "class Bowl:\n",
    "    __counter=0\n",
    "    def __init__(self):\n",
    "        self.__scoop_list=[]\n",
    "        Bowl.__counter += 1\n",
    "    def add_scoops(self,*new_scoops):\n",
    "        if self.max_scoops()==False:\n",
    "            print(\"BOWL IS FULL \")\n",
    "        else :\n",
    "            for scoop in new_scoops:\n",
    "                self.__scoop_list.append(scoop)\n",
    "    \n",
    "    def display(self):\n",
    "        total=0\n",
    "        for i in self.__scoop_list:\n",
    "            print(i)\n",
    "            total=total+i.get_price()\n",
    "\n",
    "        print('total price',total)\n",
    "\n",
    "    def max_scoops(self):\n",
    "        size=len(self.__scoop_list)\n",
    "        if(size==3):\n",
    "            return False\n",
    "        else :\n",
    "            return True\n",
    "    @staticmethod\n",
    "    def sold():\n",
    "        return Bowl.__counter\n"
   ]
  },
  {
   "cell_type": "code",
   "execution_count": 10,
   "id": "af328e9c",
   "metadata": {},
   "outputs": [
    {
     "name": "stdout",
     "output_type": "stream",
     "text": [
      "BOWL IS FULL \n",
      "FLAVOUT-chocalte AND PRICE-100\n",
      "FLAVOUT-berry AND PRICE-120\n",
      "FLAVOUT-berry AND PRICE-120\n",
      "total price 340\n"
     ]
    }
   ],
   "source": [
    "choco=Scoop('chocalte')\n",
    "choco.set_price(100)\n",
    "\n",
    "berry=Scoop('berry')\n",
    "berry.set_price(120)\n",
    "\n",
    "vanilla=Scoop('berry')\n",
    "vanilla.set_price(120)\n",
    "\n",
    "vanilla1=Scoop('berrya')\n",
    "vanilla1.set_price(120)\n",
    "bowl=Bowl()\n",
    "\n",
    "bowl.add_scoops(choco,berry,vanilla)\n",
    "bowl.add_scoops(vanilla1)\n",
    "bowl.display()"
   ]
  },
  {
   "cell_type": "code",
   "execution_count": null,
   "id": "ec5faf68",
   "metadata": {},
   "outputs": [],
   "source": []
  }
 ],
 "metadata": {
  "kernelspec": {
   "display_name": "virenv",
   "language": "python",
   "name": "python3"
  },
  "language_info": {
   "codemirror_mode": {
    "name": "ipython",
    "version": 3
   },
   "file_extension": ".py",
   "mimetype": "text/x-python",
   "name": "python",
   "nbconvert_exporter": "python",
   "pygments_lexer": "ipython3",
   "version": "3.12.7"
  }
 },
 "nbformat": 4,
 "nbformat_minor": 5
}
