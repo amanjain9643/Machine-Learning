{
 "cells": [
  {
   "cell_type": "code",
   "execution_count": 18,
   "id": "73e343f3",
   "metadata": {},
   "outputs": [],
   "source": [
    "class Vehicle:\n",
    "\n",
    "    def __init__(self,scap):\n",
    "        self.sitting_capacity=scap\n",
    "    def fare(self): \n",
    "        return self.sitting_capacity*100\n",
    "\n",
    "class Bus(Vehicle):\n",
    "\n",
    "    def __init__(self, scap):\n",
    "        super().__init__(scap)\n",
    "\n",
    "    def fare(self):\n",
    "        return self.sitting_capacity*1.1*100\n"
   ]
  },
  {
   "cell_type": "code",
   "execution_count": 19,
   "id": "a25e3d26",
   "metadata": {},
   "outputs": [
    {
     "data": {
      "text/plain": [
       "5500.000000000001"
      ]
     },
     "execution_count": 19,
     "metadata": {},
     "output_type": "execute_result"
    }
   ],
   "source": [
    "B1=Bus(50)\n",
    "B1.fare()"
   ]
  },
  {
   "cell_type": "markdown",
   "id": "905f6367",
   "metadata": {},
   "source": [
    "<h1>PROBLEM 2 </H1>"
   ]
  },
  {
   "cell_type": "code",
   "execution_count": null,
   "id": "ea40c746",
   "metadata": {},
   "outputs": [],
   "source": [
    "class Point:\n",
    "\n",
    "    def __init__(self,x,y):\n",
    "        self.x=x\n",
    "        self.y=x\n",
    "    def show_point(self):\n",
    "        return '{},{}'.format(self.x,self.y)\n",
    "class Location:\n",
    "\n",
    "    def __init__(self,x1,y1,x2,y2):\n",
    "        self.source=Point(x1,y1)\n",
    "        self.destination=Point(x2,y2)\n",
    "\n",
    "    def show(self):\n",
    "        print('source is',self.source.show_point())\n",
    "        print('destination is',self.destination.show_point())\n",
    "\n",
    "    def reflection(self):\n",
    "        self.destination.y = -self.destination.y\n",
    "        print('Relection is',self.destination.show_point())\n",
    "    "
   ]
  },
  {
   "cell_type": "code",
   "execution_count": 35,
   "id": "9987cb14",
   "metadata": {},
   "outputs": [
    {
     "name": "stdout",
     "output_type": "stream",
     "text": [
      "source is 3,3\n",
      "destination is 5,5\n"
     ]
    }
   ],
   "source": [
    "a1=Location(3,4,5,6)\n",
    "a1.show()\n"
   ]
  },
  {
   "cell_type": "code",
   "execution_count": null,
   "id": "4d3f3e71",
   "metadata": {},
   "outputs": [],
   "source": [
    "class Polygon :\n",
    "    pass\n",
    "\n",
    "class Triangle(Polygon):\n",
    "    def __init__(self):\n",
    "        super().__init__()"
   ]
  },
  {
   "cell_type": "code",
   "execution_count": 34,
   "id": "3fa779f9",
   "metadata": {},
   "outputs": [
    {
     "name": "stdout",
     "output_type": "stream",
     "text": [
      "ITEMS \t \t \t PRICE\n",
      "External Hard Disk \t 5000\n",
      "RAM \t 2000\n",
      "Printer \t 6000\n",
      "Pen Drive \t 800\n",
      "**********\n",
      "Total 13800\n",
      "10 * 1 = 10\n",
      "20 * 1 = 20\n",
      "50 * 1 = 50\n",
      "100 * 20 = 2000\n",
      "500 * 4 = 2000\n",
      "2000 * 5 = 10000\n"
     ]
    }
   ],
   "source": [
    "class Bill:\n",
    "\n",
    "    def __init__(self,item,price):\n",
    "        self.total=0\n",
    "        self.items=items\n",
    "        self.price=price\n",
    "\n",
    "        for i in self.price:\n",
    "            self.total=self.total+i\n",
    "\n",
    "    def display(self):\n",
    "        print(\"ITEMS \\t \\t \\t PRICE\")\n",
    "        for i in range(len(self.items)):\n",
    "            print(self.items[i],\"\\t\",self.price[i])\n",
    "        print(\"*\"*10)\n",
    "        print(\"Total\",self.total)\n",
    "\n",
    "class Cheque(Bill):\n",
    "    def __init__(self,item,price,cno,name):\n",
    "        super().__init__(item,price)\n",
    "        self.cno=cno\n",
    "        self.name=name\n",
    "    def show_Cheque_Payment(self):\n",
    "        self.display()\n",
    "        print(\"cno \",self.cno)\n",
    "        print(\"Bank Name \",self.name)\n",
    "\n",
    "\n",
    "\n",
    "class Cash(Bill):\n",
    "    def __init__(self, item, price,deno,value):\n",
    "        super().__init__(item, price)\n",
    "        self.deno=deno\n",
    "        self.value=value\n",
    "    def show_payment(self):\n",
    "        self.display()\n",
    "        for i in range(len(self.deno)):\n",
    "            print(self.deno[i],\"*\",self.value[i],\"=\",self.deno[i]*self.value[i])\n",
    "    pass\n",
    "\n",
    "\n",
    "items = [\"External Hard Disk\", \"RAM\", \"Printer\", \"Pen Drive\"]\n",
    "price = [5000, 2000, 6000, 800]\n",
    "option = int(input(\"Would you like to pay by cheque or cash (1/2): \"))\n",
    "\n",
    "if option==1:\n",
    "    name = input(\"Enter the name of the bank: \")\n",
    "    cno = input(\"Enter the cheque number: \")\n",
    "    cheque=Cheque(items,price,cno,name)\n",
    "    cheque.show_Cheque_Payment()\n",
    "\n",
    "if option==2:\n",
    "    deno = [10, 20, 50, 100, 500, 2000]\n",
    "    value = [1, 1, 1, 20, 4, 5]\n",
    "    cash=Cash(items,price,deno,value)\n",
    "    cash.show_payment()"
   ]
  },
  {
   "cell_type": "code",
   "execution_count": null,
   "id": "8960e517",
   "metadata": {},
   "outputs": [
    {
     "ename": "ModuleNotFoundError",
     "evalue": "No module named 'nlpcloud'",
     "output_type": "error",
     "traceback": [
      "\u001b[31m---------------------------------------------------------------------------\u001b[39m",
      "\u001b[31mModuleNotFoundError\u001b[39m                       Traceback (most recent call last)",
      "\u001b[36mCell\u001b[39m\u001b[36m \u001b[39m\u001b[32mIn[1]\u001b[39m\u001b[32m, line 1\u001b[39m\n\u001b[32m----> \u001b[39m\u001b[32m1\u001b[39m \u001b[38;5;28;01mimport\u001b[39;00m\u001b[38;5;250m \u001b[39m\u001b[34;01mnlpcloud\u001b[39;00m\n\u001b[32m      3\u001b[39m client = nlpcloud.Client(\u001b[33m\"\u001b[39m\u001b[33mfinetuned-llama-3-70b\u001b[39m\u001b[33m\"\u001b[39m, \u001b[33m\"\u001b[39m\u001b[33m21a3ec6faf8314861819adf5683f2621b1b1150b\u001b[39m\u001b[33m\"\u001b[39m, gpu=\u001b[38;5;28;01mTrue\u001b[39;00m)\n\u001b[32m      4\u001b[39m client.entities(\n\u001b[32m      5\u001b[39m \u001b[38;5;250m    \u001b[39m\u001b[33;03m\"\"\"aman jain is bad boy\"\"\"\u001b[39;00m,\n\u001b[32m      6\u001b[39m     searched_entity=\u001b[33m\"\u001b[39m\u001b[33mname\u001b[39m\u001b[33m\"\u001b[39m\n\u001b[32m      7\u001b[39m )\n",
      "\u001b[31mModuleNotFoundError\u001b[39m: No module named 'nlpcloud'"
     ]
    }
   ],
   "source": []
  },
  {
   "cell_type": "code",
   "execution_count": null,
   "id": "b5cad138",
   "metadata": {},
   "outputs": [],
   "source": []
  }
 ],
 "metadata": {
  "kernelspec": {
   "display_name": "virenv",
   "language": "python",
   "name": "python3"
  },
  "language_info": {
   "codemirror_mode": {
    "name": "ipython",
    "version": 3
   },
   "file_extension": ".py",
   "mimetype": "text/x-python",
   "name": "python",
   "nbconvert_exporter": "python",
   "pygments_lexer": "ipython3",
   "version": "3.12.7"
  }
 },
 "nbformat": 4,
 "nbformat_minor": 5
}
