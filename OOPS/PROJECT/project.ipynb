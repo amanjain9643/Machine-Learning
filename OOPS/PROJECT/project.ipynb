{
 "cells": [
  {
   "cell_type": "code",
   "execution_count": 4,
   "id": "70d34049",
   "metadata": {},
   "outputs": [
    {
     "data": {
      "text/plain": [
       "{'entities': [{'start': 0,\n",
       "   'end': 6,\n",
       "   'type': 'programming language',\n",
       "   'text': 'python'},\n",
       "  {'start': 7, 'end': 10, 'type': 'programming language', 'text': 'c++'},\n",
       "  {'start': 11, 'end': 15, 'type': 'programming language', 'text': 'java'}]}"
      ]
     },
     "execution_count": 4,
     "metadata": {},
     "output_type": "execute_result"
    }
   ],
   "source": [
    "import nlpcloud\n",
    "\n",
    "client = nlpcloud.Client(\"finetuned-llama-3-70b\", \"21a3ec6faf8314861819adf5683f2621b1b1150b\", gpu=True)\n",
    "client.entities(\n",
    "    \"\"\"python c++ java\"\"\",\n",
    "    searched_entity=\"programming language\"\n",
    ")"
   ]
  },
  {
   "cell_type": "code",
   "execution_count": 41,
   "id": "17a0add2",
   "metadata": {},
   "outputs": [],
   "source": [
    "import nlpcloud\n",
    "class NLPApp:\n",
    "    def __init__(self):\n",
    "        \n",
    "        self.__database={}\n",
    "        self.__first_menu()\n",
    "\n",
    "    def __first_menu(self):\n",
    "\n",
    "        first_input= input(\"\"\"\n",
    "        HI HOW WOULD YOU LIKE TO PROCEED \\n\n",
    "        1. NOT A MEMBER ? REGISTER \n",
    "        2. ALREADY A MEMBER ? LOGIN\n",
    "        3. EXIT\n",
    "        \"\"\")    \n",
    "        if first_input=='1':\n",
    "            self.__register()\n",
    "        elif first_input=='2':\n",
    "            self.__login()\n",
    "        else :\n",
    "            exit\n",
    "    def __second_menu(self):\n",
    "            second_input= input(\"\"\"\n",
    "            HI HOW WOULD YOU LIKE TO PROCEED \\n\n",
    "            1. NER\n",
    "            2. LANGUAGE DETECTION\n",
    "            3. SENTIMENT ANALYSIS\n",
    "            4. LOGOUT \n",
    "            \"\"\")    \n",
    "            if second_input=='1':\n",
    "                self.__ner()\n",
    "            elif second_input=='2':\n",
    "                self.__language_detection()\n",
    "            elif second_input=='3':\n",
    "                self.__sentiment_analysis()\n",
    "            else:\n",
    "                exit\n",
    "\n",
    "    def __register(self):\n",
    "        # print(\"REGISTER\")\n",
    "        name=input(\"enter name\")\n",
    "        email=input(\"enter email\")\n",
    "        password=input(\"enter password\")\n",
    "\n",
    "        if email in self.__database:\n",
    "            print(\"EMAIL ALREADY EXISTS\")\n",
    "        else :\n",
    "            self.__database[email]=[name,password]\n",
    "            print(\"REGISTERED SUCCESSFUL NOW LOGIN\")\n",
    "            print(self.__database)\n",
    "            self.__first_menu()\n",
    "    def __login(self):\n",
    "            email=input(\"enter email\")\n",
    "            password=input(\"enter password\")\n",
    "\n",
    "            if email in self.__database:\n",
    "                if self.__database[email][1]==password:\n",
    "                    print(\"LOGGED IN SUCCESSFULY\")\n",
    "                    self.__second_menu()\n",
    "                else :\n",
    "                    print(\"WRONG PASSWORD. TRY AGAIN\")\n",
    "                    self.__login()\n",
    "            else :\n",
    "                print(\"THIS EMAIL IS NOT REGISTERED\")\n",
    "                self.__first_menu()\n",
    "    def __ner(self):\n",
    "        para=input(\"ENTER THE PARAGRAPH\")\n",
    "        search_term=input(\"WHAT WOULD YOU LIKE TO SEARCH\")\n",
    "        client = nlpcloud.Client(\"finetuned-llama-3-70b\", \"21a3ec6faf8314861819adf5683f2621b1b1150b\", gpu=True)\n",
    "        response=client.entities(\n",
    "            para,\n",
    "            search_term\n",
    "        )\n",
    "\n",
    "        print(response)\n",
    "    \n",
    "    def __sentiment_analysis(self):\n",
    "\n",
    "        para=input(\"enter paragraph\")\n",
    "        client = nlpcloud.Client(\"finetuned-llama-3-70b\", \"21a3ec6faf8314861819adf5683f2621b1b1150b\", gpu=True)\n",
    "        response=client.sentiment(para,\n",
    "            target=\"NLP Cloud\"\n",
    "        )\n",
    "        # print(response)\n",
    "        L=[]\n",
    "        for i in response['scored_labels']:\n",
    "            print(i)\n",
    "            # L.append(i['score'])\n",
    "        index = sorted(list(enumerate(L)),key=lambda x:x[1],reverse=True)[0][0]\n",
    "        print(D['scored_labels'][index]['label'])\n"
   ]
  },
  {
   "cell_type": "code",
   "execution_count": 42,
   "id": "26231fd0",
   "metadata": {},
   "outputs": [
    {
     "name": "stdout",
     "output_type": "stream",
     "text": [
      "REGISTERED SUCCESSFUL NOW LOGIN\n",
      "{'a': ['a', '1']}\n",
      "LOGGED IN SUCCESSFULY\n"
     ]
    },
    {
     "ename": "HTTPError",
     "evalue": "429 Client Error: Too Many Requests for url: https://api.nlpcloud.io/v1/gpu/finetuned-llama-3-70b/sentiment: Rate limit: maximum number of requests per hour reached. Please contact support to learn how to increase this limit (if you are on the free plan, we encourage you to subscribe to the pay-as-you-go plan which provides a much higher throughput and many free requests). You can change your plan here: https://nlpcloud.com/home/plans.",
     "output_type": "error",
     "traceback": [
      "\u001b[31m---------------------------------------------------------------------------\u001b[39m",
      "\u001b[31mHTTPError\u001b[39m                                 Traceback (most recent call last)",
      "\u001b[36mFile \u001b[39m\u001b[32m~/Documents/Machine-Learning/virenv/lib/python3.12/site-packages/nlpcloud/__init__.py:408\u001b[39m, in \u001b[36mClient.sentiment\u001b[39m\u001b[34m(self, text, target)\u001b[39m\n\u001b[32m    407\u001b[39m \u001b[38;5;28;01mtry\u001b[39;00m:\n\u001b[32m--> \u001b[39m\u001b[32m408\u001b[39m     \u001b[43mr\u001b[49m\u001b[43m.\u001b[49m\u001b[43mraise_for_status\u001b[49m\u001b[43m(\u001b[49m\u001b[43m)\u001b[49m\n\u001b[32m    409\u001b[39m \u001b[38;5;28;01mexcept\u001b[39;00m HTTPError \u001b[38;5;28;01mas\u001b[39;00m err:\n",
      "\u001b[36mFile \u001b[39m\u001b[32m~/Documents/Machine-Learning/virenv/lib/python3.12/site-packages/requests/models.py:1026\u001b[39m, in \u001b[36mResponse.raise_for_status\u001b[39m\u001b[34m(self)\u001b[39m\n\u001b[32m   1025\u001b[39m \u001b[38;5;28;01mif\u001b[39;00m http_error_msg:\n\u001b[32m-> \u001b[39m\u001b[32m1026\u001b[39m     \u001b[38;5;28;01mraise\u001b[39;00m HTTPError(http_error_msg, response=\u001b[38;5;28mself\u001b[39m)\n",
      "\u001b[31mHTTPError\u001b[39m: 429 Client Error: Too Many Requests for url: https://api.nlpcloud.io/v1/gpu/finetuned-llama-3-70b/sentiment",
      "\nDuring handling of the above exception, another exception occurred:\n",
      "\u001b[31mHTTPError\u001b[39m                                 Traceback (most recent call last)",
      "\u001b[36mCell\u001b[39m\u001b[36m \u001b[39m\u001b[32mIn[42]\u001b[39m\u001b[32m, line 1\u001b[39m\n\u001b[32m----> \u001b[39m\u001b[32m1\u001b[39m obj1=\u001b[43mNLPApp\u001b[49m\u001b[43m(\u001b[49m\u001b[43m)\u001b[49m\n",
      "\u001b[36mCell\u001b[39m\u001b[36m \u001b[39m\u001b[32mIn[41]\u001b[39m\u001b[32m, line 6\u001b[39m, in \u001b[36mNLPApp.__init__\u001b[39m\u001b[34m(self)\u001b[39m\n\u001b[32m      3\u001b[39m \u001b[38;5;28;01mdef\u001b[39;00m\u001b[38;5;250m \u001b[39m\u001b[34m__init__\u001b[39m(\u001b[38;5;28mself\u001b[39m):\n\u001b[32m      5\u001b[39m     \u001b[38;5;28mself\u001b[39m.__database={}\n\u001b[32m----> \u001b[39m\u001b[32m6\u001b[39m     \u001b[38;5;28;43mself\u001b[39;49m\u001b[43m.\u001b[49m\u001b[43m__first_menu\u001b[49m\u001b[43m(\u001b[49m\u001b[43m)\u001b[49m\n",
      "\u001b[36mCell\u001b[39m\u001b[36m \u001b[39m\u001b[32mIn[41]\u001b[39m\u001b[32m, line 17\u001b[39m, in \u001b[36mNLPApp.__first_menu\u001b[39m\u001b[34m(self)\u001b[39m\n\u001b[32m     10\u001b[39m first_input= \u001b[38;5;28minput\u001b[39m(\u001b[33m\"\"\"\u001b[39m\n\u001b[32m     11\u001b[39m \u001b[33mHI HOW WOULD YOU LIKE TO PROCEED \u001b[39m\u001b[38;5;130;01m\\n\u001b[39;00m\n\u001b[32m     12\u001b[39m \u001b[33m1. NOT A MEMBER ? REGISTER \u001b[39m\n\u001b[32m     13\u001b[39m \u001b[33m2. ALREADY A MEMBER ? LOGIN\u001b[39m\n\u001b[32m     14\u001b[39m \u001b[33m3. EXIT\u001b[39m\n\u001b[32m     15\u001b[39m \u001b[33m\u001b[39m\u001b[33m\"\"\"\u001b[39m)    \n\u001b[32m     16\u001b[39m \u001b[38;5;28;01mif\u001b[39;00m first_input==\u001b[33m'\u001b[39m\u001b[33m1\u001b[39m\u001b[33m'\u001b[39m:\n\u001b[32m---> \u001b[39m\u001b[32m17\u001b[39m     \u001b[38;5;28;43mself\u001b[39;49m\u001b[43m.\u001b[49m\u001b[43m__register\u001b[49m\u001b[43m(\u001b[49m\u001b[43m)\u001b[49m\n\u001b[32m     18\u001b[39m \u001b[38;5;28;01melif\u001b[39;00m first_input==\u001b[33m'\u001b[39m\u001b[33m2\u001b[39m\u001b[33m'\u001b[39m:\n\u001b[32m     19\u001b[39m     \u001b[38;5;28mself\u001b[39m.__login()\n",
      "\u001b[36mCell\u001b[39m\u001b[36m \u001b[39m\u001b[32mIn[41]\u001b[39m\u001b[32m, line 51\u001b[39m, in \u001b[36mNLPApp.__register\u001b[39m\u001b[34m(self)\u001b[39m\n\u001b[32m     49\u001b[39m \u001b[38;5;28mprint\u001b[39m(\u001b[33m\"\u001b[39m\u001b[33mREGISTERED SUCCESSFUL NOW LOGIN\u001b[39m\u001b[33m\"\u001b[39m)\n\u001b[32m     50\u001b[39m \u001b[38;5;28mprint\u001b[39m(\u001b[38;5;28mself\u001b[39m.__database)\n\u001b[32m---> \u001b[39m\u001b[32m51\u001b[39m \u001b[38;5;28;43mself\u001b[39;49m\u001b[43m.\u001b[49m\u001b[43m__first_menu\u001b[49m\u001b[43m(\u001b[49m\u001b[43m)\u001b[49m\n",
      "\u001b[36mCell\u001b[39m\u001b[36m \u001b[39m\u001b[32mIn[41]\u001b[39m\u001b[32m, line 19\u001b[39m, in \u001b[36mNLPApp.__first_menu\u001b[39m\u001b[34m(self)\u001b[39m\n\u001b[32m     17\u001b[39m     \u001b[38;5;28mself\u001b[39m.__register()\n\u001b[32m     18\u001b[39m \u001b[38;5;28;01melif\u001b[39;00m first_input==\u001b[33m'\u001b[39m\u001b[33m2\u001b[39m\u001b[33m'\u001b[39m:\n\u001b[32m---> \u001b[39m\u001b[32m19\u001b[39m     \u001b[38;5;28;43mself\u001b[39;49m\u001b[43m.\u001b[49m\u001b[43m__login\u001b[49m\u001b[43m(\u001b[49m\u001b[43m)\u001b[49m\n\u001b[32m     20\u001b[39m \u001b[38;5;28;01melse\u001b[39;00m :\n\u001b[32m     21\u001b[39m     exit\n",
      "\u001b[36mCell\u001b[39m\u001b[36m \u001b[39m\u001b[32mIn[41]\u001b[39m\u001b[32m, line 59\u001b[39m, in \u001b[36mNLPApp.__login\u001b[39m\u001b[34m(self)\u001b[39m\n\u001b[32m     57\u001b[39m \u001b[38;5;28;01mif\u001b[39;00m \u001b[38;5;28mself\u001b[39m.__database[email][\u001b[32m1\u001b[39m]==password:\n\u001b[32m     58\u001b[39m     \u001b[38;5;28mprint\u001b[39m(\u001b[33m\"\u001b[39m\u001b[33mLOGGED IN SUCCESSFULY\u001b[39m\u001b[33m\"\u001b[39m)\n\u001b[32m---> \u001b[39m\u001b[32m59\u001b[39m     \u001b[38;5;28;43mself\u001b[39;49m\u001b[43m.\u001b[49m\u001b[43m__second_menu\u001b[49m\u001b[43m(\u001b[49m\u001b[43m)\u001b[49m\n\u001b[32m     60\u001b[39m \u001b[38;5;28;01melse\u001b[39;00m :\n\u001b[32m     61\u001b[39m     \u001b[38;5;28mprint\u001b[39m(\u001b[33m\"\u001b[39m\u001b[33mWRONG PASSWORD. TRY AGAIN\u001b[39m\u001b[33m\"\u001b[39m)\n",
      "\u001b[36mCell\u001b[39m\u001b[36m \u001b[39m\u001b[32mIn[41]\u001b[39m\u001b[32m, line 35\u001b[39m, in \u001b[36mNLPApp.__second_menu\u001b[39m\u001b[34m(self)\u001b[39m\n\u001b[32m     33\u001b[39m     \u001b[38;5;28mself\u001b[39m.__language_detection()\n\u001b[32m     34\u001b[39m \u001b[38;5;28;01melif\u001b[39;00m second_input==\u001b[33m'\u001b[39m\u001b[33m3\u001b[39m\u001b[33m'\u001b[39m:\n\u001b[32m---> \u001b[39m\u001b[32m35\u001b[39m     \u001b[38;5;28;43mself\u001b[39;49m\u001b[43m.\u001b[49m\u001b[43m__sentiment_analysis\u001b[49m\u001b[43m(\u001b[49m\u001b[43m)\u001b[49m\n\u001b[32m     36\u001b[39m \u001b[38;5;28;01melse\u001b[39;00m:\n\u001b[32m     37\u001b[39m     exit\n",
      "\u001b[36mCell\u001b[39m\u001b[36m \u001b[39m\u001b[32mIn[41]\u001b[39m\u001b[32m, line 81\u001b[39m, in \u001b[36mNLPApp.__sentiment_analysis\u001b[39m\u001b[34m(self)\u001b[39m\n\u001b[32m     79\u001b[39m para=\u001b[38;5;28minput\u001b[39m(\u001b[33m\"\u001b[39m\u001b[33menter paragraph\u001b[39m\u001b[33m\"\u001b[39m)\n\u001b[32m     80\u001b[39m client = nlpcloud.Client(\u001b[33m\"\u001b[39m\u001b[33mfinetuned-llama-3-70b\u001b[39m\u001b[33m\"\u001b[39m, \u001b[33m\"\u001b[39m\u001b[33m21a3ec6faf8314861819adf5683f2621b1b1150b\u001b[39m\u001b[33m\"\u001b[39m, gpu=\u001b[38;5;28;01mTrue\u001b[39;00m)\n\u001b[32m---> \u001b[39m\u001b[32m81\u001b[39m response=\u001b[43mclient\u001b[49m\u001b[43m.\u001b[49m\u001b[43msentiment\u001b[49m\u001b[43m(\u001b[49m\u001b[43mpara\u001b[49m\u001b[43m,\u001b[49m\n\u001b[32m     82\u001b[39m \u001b[43m    \u001b[49m\u001b[43mtarget\u001b[49m\u001b[43m=\u001b[49m\u001b[33;43m\"\u001b[39;49m\u001b[33;43mNLP Cloud\u001b[39;49m\u001b[33;43m\"\u001b[39;49m\n\u001b[32m     83\u001b[39m \u001b[43m\u001b[49m\u001b[43m)\u001b[49m\n\u001b[32m     84\u001b[39m \u001b[38;5;66;03m# print(response)\u001b[39;00m\n\u001b[32m     85\u001b[39m L=[]\n",
      "\u001b[36mFile \u001b[39m\u001b[32m~/Documents/Machine-Learning/virenv/lib/python3.12/site-packages/nlpcloud/__init__.py:410\u001b[39m, in \u001b[36mClient.sentiment\u001b[39m\u001b[34m(self, text, target)\u001b[39m\n\u001b[32m    408\u001b[39m     r.raise_for_status()\n\u001b[32m    409\u001b[39m \u001b[38;5;28;01mexcept\u001b[39;00m HTTPError \u001b[38;5;28;01mas\u001b[39;00m err:\n\u001b[32m--> \u001b[39m\u001b[32m410\u001b[39m     \u001b[38;5;28;01mraise\u001b[39;00m HTTPError(\u001b[38;5;28mstr\u001b[39m(err) + \u001b[33m\"\u001b[39m\u001b[33m: \u001b[39m\u001b[33m\"\u001b[39m + \u001b[38;5;28mstr\u001b[39m(r.text))\n\u001b[32m    412\u001b[39m \u001b[38;5;28;01mreturn\u001b[39;00m r.json()\n",
      "\u001b[31mHTTPError\u001b[39m: 429 Client Error: Too Many Requests for url: https://api.nlpcloud.io/v1/gpu/finetuned-llama-3-70b/sentiment: Rate limit: maximum number of requests per hour reached. Please contact support to learn how to increase this limit (if you are on the free plan, we encourage you to subscribe to the pay-as-you-go plan which provides a much higher throughput and many free requests). You can change your plan here: https://nlpcloud.com/home/plans."
     ]
    }
   ],
   "source": [
    "obj1=NLPApp()"
   ]
  },
  {
   "cell_type": "code",
   "execution_count": 27,
   "id": "253c082e",
   "metadata": {},
   "outputs": [],
   "source": [
    "D={'scored_labels': [{'label': 'NEGATIVE', 'score': 1}, {'label': 'disappointment', 'score': 1}]}"
   ]
  },
  {
   "cell_type": "code",
   "execution_count": 45,
   "id": "6fa35557",
   "metadata": {},
   "outputs": [
    {
     "name": "stdout",
     "output_type": "stream",
     "text": [
      "{'label': 'NEGATIVE', 'score': 1}\n",
      "{'label': 'disappointment', 'score': 1}\n",
      "NEGATIVE\n"
     ]
    }
   ],
   "source": [
    "L=[]\n",
    "for i in D['scored_labels']:\n",
    "    print(i)\n",
    "    L.append(i['score'])\n",
    "index = sorted(list(enumerate(L)),key=lambda x:x[1],reverse=True)[0][0]\n",
    "print(D['scored_labels'][index]['label'])"
   ]
  },
  {
   "cell_type": "code",
   "execution_count": 22,
   "id": "2ba6fc16",
   "metadata": {},
   "outputs": [
    {
     "name": "stdout",
     "output_type": "stream",
     "text": [
      "{'label': 'NEGATIVE', 'score': 1}\n",
      "{'label': 'disappointment', 'score': 1}\n"
     ]
    }
   ],
   "source": [
    "for i in D['scored_labels']:\n",
    "    print(i)"
   ]
  },
  {
   "cell_type": "code",
   "execution_count": null,
   "id": "54cdfe14",
   "metadata": {},
   "outputs": [],
   "source": []
  }
 ],
 "metadata": {
  "kernelspec": {
   "display_name": "virenv",
   "language": "python",
   "name": "python3"
  },
  "language_info": {
   "codemirror_mode": {
    "name": "ipython",
    "version": 3
   },
   "file_extension": ".py",
   "mimetype": "text/x-python",
   "name": "python",
   "nbconvert_exporter": "python",
   "pygments_lexer": "ipython3",
   "version": "3.12.7"
  }
 },
 "nbformat": 4,
 "nbformat_minor": 5
}
