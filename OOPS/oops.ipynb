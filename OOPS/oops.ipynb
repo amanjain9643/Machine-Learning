{
 "cells": [
  {
   "cell_type": "code",
   "execution_count": 1,
   "id": "e4a814d8",
   "metadata": {},
   "outputs": [
    {
     "data": {
      "text/plain": [
       "'AMAN'"
      ]
     },
     "execution_count": 1,
     "metadata": {},
     "output_type": "execute_result"
    }
   ],
   "source": [
    "L=[1,2,3]\n",
    "s=\"aman\"\n",
    "s.upper()"
   ]
  },
  {
   "cell_type": "code",
   "execution_count": 2,
   "id": "cc0b8614",
   "metadata": {},
   "outputs": [
    {
     "data": {
      "text/plain": [
       "'hellox'"
      ]
     },
     "execution_count": 2,
     "metadata": {},
     "output_type": "execute_result"
    }
   ],
   "source": [
    "s=\"hello\"\n",
    "s+='x'\n",
    "s"
   ]
  },
  {
   "cell_type": "code",
   "execution_count": 1,
   "id": "2de9d424",
   "metadata": {},
   "outputs": [],
   "source": [
    "class MyAtm:\n",
    "    def __init__(self):\n",
    "        self.pin=''\n",
    "        self.balance=0\n",
    "        self.menu()\n",
    "        # print(\"maaru abhi\")\n",
    "    \n",
    "    def menu(self):\n",
    "        user_input=input(\"\"\"\n",
    "        HOW CAN I HELP YOU \n",
    "        1. PRESS 1 TO CREATE PIN\n",
    "        2. PRESS 2 TO CHANGE PIN\n",
    "        3. PRESS 3 TO CHECK  BALANCE \n",
    "        4. PRESS 4 TO CREATE WITHDRAW\n",
    "    \"\"\")\n",
    "        if user_input=='1':\n",
    "             self.create_pin()\n",
    "        elif user_input=='2':\n",
    "             self.change_pin()\n",
    "        elif user_input=='3':\n",
    "            self.check_balance()\n",
    "        elif user_input=='4':\n",
    "            self.withdraw()\n",
    "        else :\n",
    "            exit\n",
    "\n",
    "    def create_pin(self):\n",
    "        user_pin=input(\"enter your pin\")\n",
    "        self.pin=user_pin\n",
    "\n",
    "        user_balance=int(input(\"enter balance\"))\n",
    "        self.balance=user_balance\n",
    "        print(\"PIN CREATED SUCCESSFULY\",self.pin)\n",
    "        self.menu()\n",
    "\n",
    "    def change_pin(self):\n",
    "        user_pin=input(\"enter existing pin\")\n",
    "        if self.pin==user_pin:\n",
    "            new_pin=input(\"enter new pin\")\n",
    "            self.pin=new_pin\n",
    "            print(\"PIN CHANGED SUCCESSFULY\")\n",
    "            self.menu()\n",
    "\n",
    "        else :\n",
    "            print(\"pin dont match Retry\")\n",
    "            self.menu()\n",
    "\n",
    "    def check_balance(self):\n",
    "        pi=input(\"enter you pin\")\n",
    "        print(pi)\n",
    "        if(self.pin==pi):   \n",
    "            print(self.balance)\n",
    "        else :\n",
    "            print(\"pin doesnt matched retry\")\n",
    "        self.menu()\n",
    "\n",
    "    def withdraw(self):\n",
    "        pi=input(\"enter you pin\")\n",
    "        if(self.pin==pi):\n",
    "            amt=int(input(\"enter amount\"))\n",
    "            if amt>self.balance:\n",
    "                print(\"not enough amount\")\n",
    "            else:\n",
    "                self.balance-=amt\n",
    "                print(\"withdrawn succeed\",self.balance)\n",
    "        else :\n",
    "            print(\"wrong pin input\")\n",
    "        \n",
    "        self.menu()\n",
    "        \n"
   ]
  },
  {
   "cell_type": "code",
   "execution_count": 2,
   "id": "8002c240",
   "metadata": {},
   "outputs": [],
   "source": [
    "obj=MyAtm()\n",
    "    # obj.menu()"
   ]
  },
  {
   "cell_type": "code",
   "execution_count": 29,
   "id": "5f621f69",
   "metadata": {},
   "outputs": [],
   "source": [
    "class Fraction:\n",
    "    # paramterized constructor\n",
    "    def __init__(self,x,y):\n",
    "        # pass\n",
    "        self.num=x\n",
    "        self.den=y\n",
    "    def __str__(self):\n",
    "        return '{}/{}'.format(self.num,self.den)\n",
    "    def __add__(self,other):\n",
    "        new_num=self.num*other.den + other.num*self.den\n",
    "        new_den=self.den*other.den\n",
    "        return '{}/{}'.format(new_num,new_den)\n",
    "\n",
    "    def __sub__(self,other):\n",
    "         \n",
    "         new_num=self.num*other.den - other.num*self.den\n",
    "         new_den=self.den*other.den\n",
    "         return '{}/{}'.format(new_num,new_den)\n",
    "\n",
    "    def __mul__(self,other):\n",
    "         new_num=self.num*other.num\n",
    "         new_den=self.den*other.den\n",
    "         return '{}/{}'.format(new_num,new_den)\n",
    "\n",
    "    def __truediv__(self,other):\n",
    "         new_num=self.num*other.den\n",
    "         new_den=self.den*other.num\n",
    "         return '{}/{}'.format(new_num,new_den)\n",
    "\n"
   ]
  },
  {
   "cell_type": "code",
   "execution_count": 30,
   "id": "c259ecef",
   "metadata": {},
   "outputs": [],
   "source": [
    "fr1=Fraction(1,2)\n",
    "fr2=Fraction(3,4)"
   ]
  },
  {
   "cell_type": "code",
   "execution_count": 28,
   "id": "10cb8eb7",
   "metadata": {},
   "outputs": [
    {
     "data": {
      "text/plain": [
       "'10/8'"
      ]
     },
     "execution_count": 28,
     "metadata": {},
     "output_type": "execute_result"
    }
   ],
   "source": [
    "fr1+fr2"
   ]
  },
  {
   "cell_type": "code",
   "execution_count": 31,
   "id": "3a6f1430",
   "metadata": {},
   "outputs": [
    {
     "data": {
      "text/plain": [
       "'3/8'"
      ]
     },
     "execution_count": 31,
     "metadata": {},
     "output_type": "execute_result"
    }
   ],
   "source": [
    "fr1*fr2"
   ]
  },
  {
   "cell_type": "code",
   "execution_count": 32,
   "id": "60e18559",
   "metadata": {},
   "outputs": [
    {
     "data": {
      "text/plain": [
       "'4/6'"
      ]
     },
     "execution_count": 32,
     "metadata": {},
     "output_type": "execute_result"
    }
   ],
   "source": [
    "fr1/fr2"
   ]
  },
  {
   "cell_type": "code",
   "execution_count": 33,
   "id": "51df59b0",
   "metadata": {},
   "outputs": [
    {
     "data": {
      "text/plain": [
       "'-2/8'"
      ]
     },
     "execution_count": 33,
     "metadata": {},
     "output_type": "execute_result"
    }
   ],
   "source": [
    "fr1-fr2"
   ]
  },
  {
   "cell_type": "code",
   "execution_count": 81,
   "id": "98c4c77c",
   "metadata": {},
   "outputs": [],
   "source": [
    "class Rectangle:\n",
    "    def __init__(self,le,wi):\n",
    "        self.length=le\n",
    "        self.width=wi\n",
    "        self.perimeter=0\n",
    "        self.area=0\n",
    "\n",
    "    def Perimeter(self):\n",
    "        self.perimeter=2*(self.length+self.width)\n",
    "        # return self.perimeter\n",
    "    \n",
    "    def Area(self):\n",
    "        self.area=self.length*self.width\n",
    "        # return self.area\n",
    "    \n",
    "    def display(self):\n",
    "        self.Perimeter()\n",
    "        self.Area()\n",
    "        print(\"length\",self.length)\n",
    "        print(\"width\",self.width)\n",
    "        print(\"area\",self.area)\n",
    "        print(\"perimeter\",self.perimeter)\n",
    "        "
   ]
  },
  {
   "cell_type": "code",
   "execution_count": 82,
   "id": "8239bf15",
   "metadata": {},
   "outputs": [],
   "source": [
    "obj1=Rectangle(3,4)"
   ]
  },
  {
   "cell_type": "code",
   "execution_count": 77,
   "id": "775e0fdb",
   "metadata": {},
   "outputs": [],
   "source": [
    "obj1.Area()"
   ]
  },
  {
   "cell_type": "code",
   "execution_count": 78,
   "id": "5c50a4e4",
   "metadata": {},
   "outputs": [],
   "source": [
    "obj1.Perimeter()"
   ]
  },
  {
   "cell_type": "code",
   "execution_count": 83,
   "id": "f2db4e15",
   "metadata": {},
   "outputs": [
    {
     "name": "stdout",
     "output_type": "stream",
     "text": [
      "length 3\n",
      "width 4\n",
      "area 12\n",
      "perimeter 14\n"
     ]
    }
   ],
   "source": [
    "obj1.display()"
   ]
  },
  {
   "cell_type": "code",
   "execution_count": 55,
   "id": "fabf5fba",
   "metadata": {},
   "outputs": [],
   "source": [
    "class BankAccount:\n",
    "    def __init__(self,accountNumber,name,balance):\n",
    "        self.an=int(accountNumber)\n",
    "        self.name=name\n",
    "        self.balance=int(balance)\n",
    "    \n",
    "    def deposit(self,amt):\n",
    "        self.balance=self.balance+amt\n",
    "        print(\"new balance\",self.balance)\n",
    "    \n",
    "    def withdraw(self,amt):\n",
    "        if self.balance>=amt:\n",
    "            self.balance=self.balance-amt\n",
    "            print(\"withdrawal succeed new balance\",self.balance)\n",
    "        else :\n",
    "            print(\"NOt enough balance\")\n",
    "    \n",
    "    def bankFees(self):\n",
    "        return 0.05*self.balance\n",
    "\n",
    "    def display(self):\n",
    "        print(self.an)\n",
    "        print(self.name)\n",
    "        print(self.balance)"
   ]
  },
  {
   "cell_type": "code",
   "execution_count": 57,
   "id": "b7fbda10",
   "metadata": {},
   "outputs": [
    {
     "name": "stdout",
     "output_type": "stream",
     "text": [
      "new balance 3000\n",
      "9643\n",
      "aman\n",
      "3000\n",
      "withdrawal succeed new balance 1000\n"
     ]
    }
   ],
   "source": [
    "obj1=BankAccount(9643,\"aman\",1000)\n",
    "obj1.deposit(2000)\n",
    "obj1.display()\n",
    "obj1.withdraw(2000)\n"
   ]
  },
  {
   "cell_type": "code",
   "execution_count": null,
   "id": "8a83ef65",
   "metadata": {},
   "outputs": [],
   "source": [
    "import math\n",
    "class Computation:\n",
    "\n",
    "    def __init__(self):\n",
    "        pass\n",
    "    def Factorial(self,number):\n",
    "        pr=1\n",
    "        for i in range(1,number+1):\n",
    "            pr*=i\n",
    "        return pr\n",
    "    \n",
    "    def naturalSum(self,number):\n",
    "        sum=0\n",
    "        sum+=number*(number+1)\n",
    "        sum/=2\n",
    "        return sum\n",
    "    \n",
    "    def testPrime(self,number):\n",
    "        tr=True\n",
    "        for i in range(1,int(math.sqrt(number))+1):\n",
    "            if number%i==0:\n",
    "                tr=False\n",
    "                break\n",
    "        return tr\n",
    "\n",
    "    "
   ]
  },
  {
   "cell_type": "code",
   "execution_count": 45,
   "id": "aac94f9c",
   "metadata": {},
   "outputs": [
    {
     "data": {
      "text/plain": [
       "False"
      ]
     },
     "execution_count": 45,
     "metadata": {},
     "output_type": "execute_result"
    }
   ],
   "source": [
    "obj1=Computation()\n",
    "obj1.testPrime(int(10))"
   ]
  },
  {
   "cell_type": "code",
   "execution_count": null,
   "id": "67023754",
   "metadata": {},
   "outputs": [],
   "source": []
  }
 ],
 "metadata": {
  "kernelspec": {
   "display_name": "virenv",
   "language": "python",
   "name": "python3"
  },
  "language_info": {
   "codemirror_mode": {
    "name": "ipython",
    "version": 3
   },
   "file_extension": ".py",
   "mimetype": "text/x-python",
   "name": "python",
   "nbconvert_exporter": "python",
   "pygments_lexer": "ipython3",
   "version": "3.12.7"
  }
 },
 "nbformat": 4,
 "nbformat_minor": 5
}
