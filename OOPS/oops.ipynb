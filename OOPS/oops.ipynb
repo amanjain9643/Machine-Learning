{
 "cells": [
  {
   "cell_type": "code",
   "execution_count": 1,
   "id": "e4a814d8",
   "metadata": {},
   "outputs": [
    {
     "data": {
      "text/plain": [
       "'AMAN'"
      ]
     },
     "execution_count": 1,
     "metadata": {},
     "output_type": "execute_result"
    }
   ],
   "source": [
    "L=[1,2,3]\n",
    "s=\"aman\"\n",
    "s.upper()"
   ]
  },
  {
   "cell_type": "code",
   "execution_count": 2,
   "id": "cc0b8614",
   "metadata": {},
   "outputs": [
    {
     "data": {
      "text/plain": [
       "'hellox'"
      ]
     },
     "execution_count": 2,
     "metadata": {},
     "output_type": "execute_result"
    }
   ],
   "source": [
    "s=\"hello\"\n",
    "s+='x'\n",
    "s"
   ]
  },
  {
   "cell_type": "code",
   "execution_count": 1,
   "id": "2de9d424",
   "metadata": {},
   "outputs": [],
   "source": [
    "class MyAtm:\n",
    "    def __init__(self):\n",
    "        self.pin=''\n",
    "        self.balance=0\n",
    "        self.menu()\n",
    "        # print(\"maaru abhi\")\n",
    "    \n",
    "    def menu(self):\n",
    "        user_input=input(\"\"\"\n",
    "        HOW CAN I HELP YOU \n",
    "        1. PRESS 1 TO CREATE PIN\n",
    "        2. PRESS 2 TO CHANGE PIN\n",
    "        3. PRESS 3 TO CHECK  BALANCE \n",
    "        4. PRESS 4 TO CREATE WITHDRAW\n",
    "    \"\"\")\n",
    "        if user_input=='1':\n",
    "             self.create_pin()\n",
    "        elif user_input=='2':\n",
    "             self.change_pin()\n",
    "        elif user_input=='3':\n",
    "            self.check_balance()\n",
    "        elif user_input=='4':\n",
    "            self.withdraw()\n",
    "        else :\n",
    "            exit\n",
    "\n",
    "    def create_pin(self):\n",
    "        user_pin=input(\"enter your pin\")\n",
    "        self.pin=user_pin\n",
    "\n",
    "        user_balance=int(input(\"enter balance\"))\n",
    "        self.balance=user_balance\n",
    "        print(\"PIN CREATED SUCCESSFULY\",self.pin)\n",
    "        self.menu()\n",
    "\n",
    "    def change_pin(self):\n",
    "        user_pin=input(\"enter existing pin\")\n",
    "        if self.pin==user_pin:\n",
    "            new_pin=input(\"enter new pin\")\n",
    "            self.pin=new_pin\n",
    "            print(\"PIN CHANGED SUCCESSFULY\")\n",
    "            self.menu()\n",
    "\n",
    "        else :\n",
    "            print(\"pin dont match Retry\")\n",
    "            self.menu()\n",
    "\n",
    "    def check_balance(self):\n",
    "        pi=input(\"enter you pin\")\n",
    "        print(pi)\n",
    "        if(self.pin==pi):   \n",
    "            print(self.balance)\n",
    "        else :\n",
    "            print(\"pin doesnt matched retry\")\n",
    "        self.menu()\n",
    "\n",
    "    def withdraw(self):\n",
    "        pi=input(\"enter you pin\")\n",
    "        if(self.pin==pi):\n",
    "            amt=int(input(\"enter amount\"))\n",
    "            if amt>self.balance:\n",
    "                print(\"not enough amount\")\n",
    "            else:\n",
    "                self.balance-=amt\n",
    "                print(\"withdrawn succeed\",self.balance)\n",
    "        else :\n",
    "            print(\"wrong pin input\")\n",
    "        \n",
    "        self.menu()\n",
    "        \n"
   ]
  },
  {
   "cell_type": "code",
   "execution_count": 2,
   "id": "8002c240",
   "metadata": {},
   "outputs": [],
   "source": [
    "obj=MyAtm()\n",
    "    # obj.menu()"
   ]
  },
  {
   "cell_type": "code",
   "execution_count": null,
   "id": "5f621f69",
   "metadata": {},
   "outputs": [],
   "source": [
    "class Fraction:\n",
    "    \n",
    "    # paramterized constructor\n",
    "    def __init__(self,x,y):\n",
    "        # pass\n",
    "        numerator=x\n",
    "        denominator=y\n",
    "    \n"
   ]
  }
 ],
 "metadata": {
  "kernelspec": {
   "display_name": "virenv",
   "language": "python",
   "name": "python3"
  },
  "language_info": {
   "codemirror_mode": {
    "name": "ipython",
    "version": 3
   },
   "file_extension": ".py",
   "mimetype": "text/x-python",
   "name": "python",
   "nbconvert_exporter": "python",
   "pygments_lexer": "ipython3",
   "version": "3.12.7"
  }
 },
 "nbformat": 4,
 "nbformat_minor": 5
}
