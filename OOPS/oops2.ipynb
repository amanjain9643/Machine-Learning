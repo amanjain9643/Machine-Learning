{
 "cells": [
  {
   "cell_type": "code",
   "execution_count": 80,
   "id": "a053e8d4",
   "metadata": {},
   "outputs": [],
   "source": [
    "import math\n",
    "class Point:\n",
    "    def __init__(self,x,y):\n",
    "        self.x_cod=x\n",
    "        self.y_cod=y\n",
    "\n",
    "    def __str__(self):\n",
    "        return '<{},{}>'.format(self.x_cod,self.y_cod)\n",
    "\n",
    "    def euclidean_dist(self,other):\n",
    "        x1=self.x_cod\n",
    "        x2=other.x_cod\n",
    "        y1=self.y_cod\n",
    "        y2=other.y_cod\n",
    "        return ((x2-x1)**2+(y2-y1)**2)**0.5\n",
    "\n",
    "    def dist_from_origin(self):\n",
    "       return self.euclidean_dist(Point(0,0))\n"
   ]
  },
  {
   "cell_type": "code",
   "execution_count": 81,
   "id": "1f26f29b",
   "metadata": {},
   "outputs": [
    {
     "data": {
      "text/plain": [
       "0.0"
      ]
     },
     "execution_count": 81,
     "metadata": {},
     "output_type": "execute_result"
    }
   ],
   "source": [
    "p1=Point(0,0)\n",
    "p2=Point(1,1)\n",
    "p1.dist_from_origin()"
   ]
  },
  {
   "cell_type": "code",
   "execution_count": 88,
   "id": "ff730c0d",
   "metadata": {},
   "outputs": [],
   "source": [
    "class Line:\n",
    "    def __init__(self,a,b,c):\n",
    "        self.a=a\n",
    "        self.b=b\n",
    "        self.c=c\n",
    "    \n",
    "    def __str__(self):\n",
    "        return '{}x+{}y+{}c=0'.format(self.a,self.b,self.c)\n",
    "\n",
    "    def point_on_line(self,point):\n",
    "        if self.a*point.x_cod+self.b*point.y_cod+self.c==0:\n",
    "            return \"LIES ON LINE\"\n",
    "        else :\n",
    "            return \"DOESNT LIES ON LINE \"\n",
    "    def shortdifbwpl(self,point):\n",
    "        a=self.a\n",
    "        b=self.b\n",
    "        c=self.c\n",
    "        x=point.x_cod\n",
    "        y=point.y_cod\n",
    "        return (a*x+b*y+c)/((a**2+b**2)**0.5)"
   ]
  },
  {
   "cell_type": "code",
   "execution_count": 89,
   "id": "c4c6fbb3",
   "metadata": {},
   "outputs": [
    {
     "name": "stdout",
     "output_type": "stream",
     "text": [
      "0.0\n"
     ]
    }
   ],
   "source": [
    "l1=Line(1,1,-2)\n",
    "p1=Point(1,1)\n",
    "# print(l1.point_on_line(p1))\n",
    "print(l1.shortdifbwpl(p1))"
   ]
  },
  {
   "cell_type": "code",
   "execution_count": null,
   "id": "eddc7cb2",
   "metadata": {},
   "outputs": [],
   "source": []
  },
  {
   "cell_type": "markdown",
   "id": "2fd5e38a",
   "metadata": {},
   "source": [
    "<h1 >PASS BY REFRENCE</h1>"
   ]
  },
  {
   "cell_type": "code",
   "execution_count": 2,
   "id": "74e1be8f",
   "metadata": {},
   "outputs": [
    {
     "name": "stdout",
     "output_type": "stream",
     "text": [
      "Hi my name is  aman gender male\n",
      "ANKIT MALE\n"
     ]
    }
   ],
   "source": [
    "class Person:\n",
    "    def __init__(self,name,gender):\n",
    "        self.name=name\n",
    "        self.gender=gender\n",
    "def greet(person):\n",
    "    print(\"Hi my name is \",person.name,\"gender\",person.gender)\n",
    "    P1=Person(\"ANKIT\",\"MALE\")\n",
    "    return P1\n",
    "\n",
    "P=Person(\"aman\",\"male\")\n",
    "x=greet(P)\n",
    "print(x.name,x.gender)\n",
    "        "
   ]
  },
  {
   "cell_type": "code",
   "execution_count": 4,
   "id": "1ffa28c4",
   "metadata": {},
   "outputs": [
    {
     "name": "stdout",
     "output_type": "stream",
     "text": [
      "4423976432\n",
      "4423976432\n",
      "Hi my name is  aman gender male\n"
     ]
    }
   ],
   "source": [
    "class Person:\n",
    "    def __init__(self,name,gender):\n",
    "        self.name=name\n",
    "        self.gender=gender\n",
    "def greet(person):\n",
    "    print(id(person))\n",
    "    print(\"Hi my name is \",person.name,\"gender\",person.gender)\n",
    "\n",
    "P=Person(\"aman\",\"male\")\n",
    "print(id(P))\n",
    "greet(P)\n",
    "        "
   ]
  },
  {
   "cell_type": "code",
   "execution_count": 5,
   "id": "d9cec93f",
   "metadata": {},
   "outputs": [
    {
     "name": "stdout",
     "output_type": "stream",
     "text": [
      "4423979936\n",
      "4423979936\n",
      "4423979936\n"
     ]
    }
   ],
   "source": [
    "class Person:\n",
    "    def __init__(self,name,gender):\n",
    "        self.name=name\n",
    "        self.gender=gender\n",
    "def greet(person):\n",
    "    print(id(person))\n",
    "    person.name=\"jain sahab\"\n",
    "    return person\n",
    "\n",
    "P=Person(\"aman\",\"male\")\n",
    "print(id(P))\n",
    "x=greet(P)\n",
    "print(id(x))"
   ]
  },
  {
   "cell_type": "markdown",
   "id": "67343173",
   "metadata": {},
   "source": []
  },
  {
   "cell_type": "markdown",
   "id": "c32e16eb",
   "metadata": {},
   "source": [
    "<h1>ENCAPSULATION</h1>"
   ]
  },
  {
   "cell_type": "code",
   "execution_count": null,
   "id": "0cdda876",
   "metadata": {},
   "outputs": [
    {
     "data": {
      "text/plain": [
       "'stev'"
      ]
     },
     "execution_count": 8,
     "metadata": {},
     "output_type": "execute_result"
    }
   ],
   "source": [
    "class Person:\n",
    "    def __init__(self,name,gender):\n",
    "\n",
    "        # instance variable - in which value for every object remains different\n",
    "        self.name=name\n",
    "        self.gender=gender\n",
    "\n",
    "P=Person(\"aman\",\"male\")\n",
    "P1=Person(\"stev\",\"jobs\")\n",
    "P.name\n",
    "P1.name"
   ]
  },
  {
   "cell_type": "code",
   "execution_count": 22,
   "id": "982d826f",
   "metadata": {},
   "outputs": [],
   "source": [
    "class MyAtm:\n",
    "    def __init__(self):\n",
    "        self.pin=''\n",
    "        self.__balance=0\n",
    "        # self.menu()\n",
    "        # print(\"maaru abhi\")\n",
    "    \n",
    "    def menu(self):\n",
    "        user_input=input(\"\"\"\n",
    "        HOW CAN I HELP YOU \n",
    "        1. PRESS 1 TO CREATE PIN\n",
    "        2. PRESS 2 TO CHANGE PIN\n",
    "        3. PRESS 3 TO CHECK  __balance \n",
    "        4. PRESS 4 TO CREATE WITHDRAW\n",
    "    \"\"\")\n",
    "        if user_input=='1':\n",
    "             self.create_pin()\n",
    "        elif user_input=='2':\n",
    "             self.change_pin()\n",
    "        elif user_input=='3':\n",
    "            self.check___balance()\n",
    "        elif user_input=='4':\n",
    "            self.withdraw()\n",
    "        else :\n",
    "            exit\n",
    "\n",
    "    def create_pin(self):\n",
    "        user_pin=input(\"enter your pin\")\n",
    "        self.pin=user_pin\n",
    "\n",
    "        user___balance=int(input(\"enter __balance\"))\n",
    "        self.__balance=user___balance\n",
    "        print(\"PIN CREATED SUCCESSFULY\",self.pin)\n",
    "        self.menu()\n",
    "\n",
    "    def get_balance(self):\n",
    "        return self.__balance\n",
    "\n",
    "    def set_balance(self,newb):\n",
    "        self.__balance=newb\n",
    "\n",
    "    def change_pin(self):\n",
    "        user_pin=input(\"enter existing pin\")\n",
    "        if self.pin==user_pin:\n",
    "            new_pin=input(\"enter new pin\")\n",
    "            self.pin=new_pin\n",
    "            print(\"PIN CHANGED SUCCESSFULY\")\n",
    "            self.menu()\n",
    "\n",
    "        else :\n",
    "            print(\"pin dont match Retry\")\n",
    "            self.menu()\n",
    "\n",
    "    def check___balance(self):\n",
    "        pi=input(\"enter you pin\")\n",
    "        print(pi)\n",
    "        if(self.pin==pi):   \n",
    "            print(self.__balance)\n",
    "        else :\n",
    "            print(\"pin doesnt matched retry\")\n",
    "        self.menu()\n",
    "\n",
    "    def withdraw(self):\n",
    "        pi=input(\"enter you pin\")\n",
    "        if(self.pin==pi):\n",
    "            amt=int(input(\"enter amount\"))\n",
    "            if amt>self.__balance:\n",
    "                print(\"not enough amount\")\n",
    "            else:\n",
    "                self.__balance-=amt\n",
    "                print(\"withdrawn succeed\",self.__balance)\n",
    "        else :\n",
    "            print(\"wrong pin input\")\n",
    "        \n",
    "        self.menu()\n",
    "        \n"
   ]
  },
  {
   "cell_type": "code",
   "execution_count": null,
   "id": "a4254695",
   "metadata": {},
   "outputs": [],
   "source": []
  },
  {
   "cell_type": "markdown",
   "id": "ad9b4a50",
   "metadata": {},
   "source": [
    "<h>"
   ]
  },
  {
   "cell_type": "code",
   "execution_count": 23,
   "id": "05d8ca69",
   "metadata": {},
   "outputs": [],
   "source": [
    "obj1=MyAtm()"
   ]
  },
  {
   "cell_type": "code",
   "execution_count": 30,
   "id": "b7eb3930",
   "metadata": {},
   "outputs": [],
   "source": [
    "obj1.set_balance(1000)\n"
   ]
  },
  {
   "cell_type": "code",
   "execution_count": 31,
   "id": "91b1c36a",
   "metadata": {},
   "outputs": [
    {
     "data": {
      "text/plain": [
       "1000"
      ]
     },
     "execution_count": 31,
     "metadata": {},
     "output_type": "execute_result"
    }
   ],
   "source": [
    "obj1.get_balance()"
   ]
  },
  {
   "cell_type": "markdown",
   "id": "3fd30719",
   "metadata": {},
   "source": [
    "<h1>ADDING UD OBJECTS IN LISTS</h1>"
   ]
  },
  {
   "cell_type": "markdown",
   "id": "6c3429dc",
   "metadata": {},
   "source": []
  },
  {
   "cell_type": "code",
   "execution_count": 39,
   "id": "d151eab9",
   "metadata": {},
   "outputs": [],
   "source": [
    "class Person:\n",
    "    def __init__(self,name,gender):\n",
    "        self.name=name\n",
    "        self.gender=gender\n",
    "def greet(person):\n",
    "    print(id(person))\n",
    "    person.name=\"jain sahab\"\n",
    "    return person\n",
    "\n",
    "P=Person(\"aman\",\"male\")\n",
    "P1=Person(\"amanJI\",\"male\")\n",
    "P2=Person(\"amanJAINI\",\"male\")\n",
    "L=[P,P1,P2]\n",
    "S=set()\n",
    "S={P,P1,P2}\n",
    "d={'p':P,'p1':P1,'p2':P2}"
   ]
  },
  {
   "cell_type": "code",
   "execution_count": null,
   "id": "15e6daf9",
   "metadata": {},
   "outputs": [
    {
     "data": {
      "text/plain": [
       "{'p': <__main__.Person at 0x122cdeff0>,\n",
       " 'p1': <__main__.Person at 0x122cdfe30>,\n",
       " 'p2': <__main__.Person at 0x122cdf140>}"
      ]
     },
     "execution_count": 40,
     "metadata": {},
     "output_type": "execute_result"
    }
   ],
   "source": []
  },
  {
   "cell_type": "code",
   "execution_count": 42,
   "id": "c6b079f8",
   "metadata": {},
   "outputs": [
    {
     "name": "stdout",
     "output_type": "stream",
     "text": [
      "<__main__.Person object at 0x122cdeff0>\n",
      "<__main__.Person object at 0x122cdfe30>\n",
      "<__main__.Person object at 0x122cdf140>\n"
     ]
    }
   ],
   "source": [
    "for i in d:\n",
    "    print(d[i])"
   ]
  },
  {
   "cell_type": "markdown",
   "id": "6d795aa3",
   "metadata": {},
   "source": [
    "<H1>STATIC VARIABLE</H1>"
   ]
  },
  {
   "cell_type": "code",
   "execution_count": null,
   "id": "f9c2795d",
   "metadata": {},
   "outputs": [],
   "source": [
    "class MyAtm:\n",
    "\n",
    "    __counter =1 \n",
    "    def __init__(self):\n",
    "        self.pin=''\n",
    "        self.__balance=0\n",
    "        self.cid=MyAtm.__counter\n",
    "        MyAtm.counter=MyAtm.__counter+1\n",
    "        # self.menu()\n",
    "        # print(\"maaru abhi\")\n",
    "    \n",
    "    @staticmethod\n",
    "    def get_counter():\n",
    "        return MyAtm.counter\n",
    "    def menu(self):\n",
    "        user_input=input(\"\"\"\n",
    "        HOW CAN I HELP YOU \n",
    "        1. PRESS 1 TO CREATE PIN\n",
    "        2. PRESS 2 TO CHANGE PIN\n",
    "        3. PRESS 3 TO CHECK  __balance \n",
    "        4. PRESS 4 TO CREATE WITHDRAW\n",
    "    \"\"\")\n",
    "        if user_input=='1':\n",
    "             self.create_pin()\n",
    "        elif user_input=='2':\n",
    "             self.change_pin()\n",
    "        elif user_input=='3':\n",
    "            self.check___balance()\n",
    "        elif user_input=='4':\n",
    "            self.withdraw()\n",
    "        else :\n",
    "            exit\n",
    "\n",
    "    def create_pin(self):\n",
    "        user_pin=input(\"enter your pin\")\n",
    "        self.pin=user_pin\n",
    "\n",
    "        user___balance=int(input(\"enter __balance\"))\n",
    "        self.__balance=user___balance\n",
    "        print(\"PIN CREATED SUCCESSFULY\",self.pin)\n",
    "        self.menu()\n",
    "\n",
    "    def get_balance(self):\n",
    "        return self.__balance\n",
    "\n",
    "    def set_balance(self,newb):\n",
    "        self.__balance=newb\n",
    "\n",
    "    def change_pin(self):\n",
    "        user_pin=input(\"enter existing pin\")\n",
    "        if self.pin==user_pin:\n",
    "            new_pin=input(\"enter new pin\")\n",
    "            self.pin=new_pin\n",
    "            print(\"PIN CHANGED SUCCESSFULY\")\n",
    "            self.menu()\n",
    "\n",
    "        else :\n",
    "            print(\"pin dont match Retry\")\n",
    "            self.menu()\n",
    "\n",
    "    def check___balance(self):\n",
    "        pi=input(\"enter you pin\")\n",
    "        print(pi)\n",
    "        if(self.pin==pi):   \n",
    "            print(self.__balance)\n",
    "        else :\n",
    "            print(\"pin doesnt matched retry\")\n",
    "        self.menu()\n",
    "\n",
    "    def withdraw(self):\n",
    "        pi=input(\"enter you pin\")\n",
    "        if(self.pin==pi):\n",
    "            amt=int(input(\"enter amount\"))\n",
    "            if amt>self.__balance:\n",
    "                print(\"not enough amount\")\n",
    "            else:\n",
    "                self.__balance-=amt\n",
    "                print(\"withdrawn succeed\",self.__balance)\n",
    "        else :\n",
    "            print(\"wrong pin input\")\n",
    "        \n",
    "        self.menu()\n",
    "        \n"
   ]
  },
  {
   "cell_type": "code",
   "execution_count": 60,
   "id": "7fa0e79c",
   "metadata": {},
   "outputs": [],
   "source": [
    "c1=MyAtm()"
   ]
  },
  {
   "cell_type": "code",
   "execution_count": 61,
   "id": "517415a3",
   "metadata": {},
   "outputs": [],
   "source": [
    "c2=MyAtm()\n"
   ]
  },
  {
   "cell_type": "code",
   "execution_count": 62,
   "id": "c474d729",
   "metadata": {},
   "outputs": [],
   "source": [
    "c3=MyAtm()\n"
   ]
  },
  {
   "cell_type": "code",
   "execution_count": 63,
   "id": "997b7d0e",
   "metadata": {},
   "outputs": [
    {
     "data": {
      "text/plain": [
       "1"
      ]
     },
     "execution_count": 63,
     "metadata": {},
     "output_type": "execute_result"
    }
   ],
   "source": [
    "c1.cid"
   ]
  },
  {
   "cell_type": "code",
   "execution_count": 64,
   "id": "ec369a5c",
   "metadata": {},
   "outputs": [
    {
     "data": {
      "text/plain": [
       "2"
      ]
     },
     "execution_count": 64,
     "metadata": {},
     "output_type": "execute_result"
    }
   ],
   "source": [
    "c2.cid"
   ]
  },
  {
   "cell_type": "code",
   "execution_count": 65,
   "id": "a0f79f59",
   "metadata": {},
   "outputs": [
    {
     "data": {
      "text/plain": [
       "3"
      ]
     },
     "execution_count": 65,
     "metadata": {},
     "output_type": "execute_result"
    }
   ],
   "source": [
    "c3.cid"
   ]
  },
  {
   "cell_type": "code",
   "execution_count": null,
   "id": "6751ac9f",
   "metadata": {},
   "outputs": [
    {
     "data": {
      "text/plain": [
       "4"
      ]
     },
     "execution_count": 69,
     "metadata": {},
     "output_type": "execute_result"
    }
   ],
   "source": []
  },
  {
   "cell_type": "code",
   "execution_count": null,
   "id": "49229f34",
   "metadata": {},
   "outputs": [],
   "source": []
  }
 ],
 "metadata": {
  "kernelspec": {
   "display_name": "virenv",
   "language": "python",
   "name": "python3"
  },
  "language_info": {
   "codemirror_mode": {
    "name": "ipython",
    "version": 3
   },
   "file_extension": ".py",
   "mimetype": "text/x-python",
   "name": "python",
   "nbconvert_exporter": "python",
   "pygments_lexer": "ipython3",
   "version": "3.12.7"
  }
 },
 "nbformat": 4,
 "nbformat_minor": 5
}
