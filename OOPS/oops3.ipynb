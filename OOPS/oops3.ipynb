{
 "cells": [
  {
   "cell_type": "code",
   "execution_count": 4,
   "id": "0488dc21",
   "metadata": {},
   "outputs": [],
   "source": [
    "class Customer:\n",
    "\n",
    "    def __init__(self,name,gender,address):\n",
    "\n",
    "        self.name=name\n",
    "        self.gender=gender\n",
    "        self.address=address\n",
    "    \n",
    "    def print_address(self):\n",
    "        print(self.address.get_city(),self.address.pin,self.address.state)\n",
    "\n",
    "    def edit_profile(self,name,city,pin,state):\n",
    "        self.name=name\n",
    "        self.address.edit_address(city,pin,state)\n",
    "\n",
    "class Address:\n",
    "    def __init__(self,city , pin , state):\n",
    "\n",
    "        self.__city=city\n",
    "        self.pin=pin\n",
    "        self.state=state\n",
    "    def get_city(self):\n",
    "        return self.__city\n",
    "\n",
    "    def set_city(self,city):\n",
    "        self.__city=city\n",
    "\n",
    "    def edit_address(self,city,pin,state):\n",
    "        self.__city=city\n",
    "        self.state=state\n",
    "        self.pin=pin"
   ]
  },
  {
   "cell_type": "markdown",
   "id": "81c21da8",
   "metadata": {},
   "source": []
  },
  {
   "cell_type": "code",
   "execution_count": 5,
   "id": "7fcb876f",
   "metadata": {},
   "outputs": [
    {
     "name": "stdout",
     "output_type": "stream",
     "text": [
      "shahdara 110032 india\n",
      "haryana 454545 gurgaon\n"
     ]
    },
    {
     "data": {
      "text/plain": [
       "'rajesh'"
      ]
     },
     "execution_count": 5,
     "metadata": {},
     "output_type": "execute_result"
    }
   ],
   "source": [
    "add1=Address('shahdara',110032,'india')\n",
    "cust = Customer('aman','male',add1)\n",
    "\n",
    "cust.print_address()\n",
    "cust.edit_profile(\"rajesh\",'haryana',454545,'gurgaon')\n",
    "\n",
    "cust.print_address()\n",
    "cust.name"
   ]
  },
  {
   "cell_type": "code",
   "execution_count": null,
   "id": "0695d014",
   "metadata": {},
   "outputs": [],
   "source": []
  },
  {
   "cell_type": "markdown",
   "id": "054e6fa7",
   "metadata": {},
   "source": [
    "<h1>INHERITANCE</h1>"
   ]
  },
  {
   "cell_type": "code",
   "execution_count": 6,
   "id": "eafeabcc",
   "metadata": {},
   "outputs": [],
   "source": [
    "class User:\n",
    "    def __init__(self):\n",
    "        self.name=\"aman\"\n",
    "    def login(self):\n",
    "        print(\"login\")\n",
    "\n",
    "class Student(User):\n",
    "\n",
    "    def enroll(self):\n",
    "        print(\"enroll in course\")\n",
    "\n"
   ]
  },
  {
   "cell_type": "code",
   "execution_count": 20,
   "id": "8006884e",
   "metadata": {},
   "outputs": [
    {
     "name": "stdout",
     "output_type": "stream",
     "text": [
      "aman\n"
     ]
    }
   ],
   "source": [
    "u=User()\n",
    "s=Student()\n",
    "\n",
    "print(s.name)\n"
   ]
  },
  {
   "cell_type": "code",
   "execution_count": null,
   "id": "e8f76e8c",
   "metadata": {},
   "outputs": [
    {
     "name": "stdout",
     "output_type": "stream",
     "text": [
      "INSIDE SMARTPHONE COSNTRUCTOR\n"
     ]
    }
   ],
   "source": [
    "class Phone:\n",
    "    def __init__(self,price,brand,camera):\n",
    "        print(\"INSIDE PHONE CONSTRUCTOR\")\n",
    "        self.brand=brand\n",
    "        self.__price=price\n",
    "        self.camera=camera\n",
    "\n",
    "        print(self.brand,self.camera,self.price)\n",
    "\n",
    "class SmartPhone(Phone):\n",
    "    def __init__(self,os,ram):\n",
    "        self.os=os\n",
    "        self.ram=ram\n",
    "        print(\"INSIDE SMARTPHONE COSNTRUCTOR\")\n",
    "\n",
    "s=SmartPhone(\"ANDROID\", 2)"
   ]
  },
  {
   "cell_type": "code",
   "execution_count": 30,
   "id": "fe374839",
   "metadata": {},
   "outputs": [
    {
     "name": "stdout",
     "output_type": "stream",
     "text": [
      "INSIDE PHONE CONSTRUCTOR\n",
      "1000 apple\n"
     ]
    },
    {
     "ename": "AttributeError",
     "evalue": "'SmartPhone' object has no attribute 'buy'",
     "output_type": "error",
     "traceback": [
      "\u001b[31m---------------------------------------------------------------------------\u001b[39m",
      "\u001b[31mAttributeError\u001b[39m                            Traceback (most recent call last)",
      "\u001b[36mCell\u001b[39m\u001b[36m \u001b[39m\u001b[32mIn[30]\u001b[39m\u001b[32m, line 17\u001b[39m\n\u001b[32m     13\u001b[39m     \u001b[38;5;28;01mpass\u001b[39;00m\n\u001b[32m     16\u001b[39m s=SmartPhone(\u001b[32m1000\u001b[39m,\u001b[33m\"\u001b[39m\u001b[33mapple\u001b[39m\u001b[33m\"\u001b[39m)\n\u001b[32m---> \u001b[39m\u001b[32m17\u001b[39m \u001b[43ms\u001b[49m\u001b[43m.\u001b[49m\u001b[43mbuy\u001b[49m()\n",
      "\u001b[31mAttributeError\u001b[39m: 'SmartPhone' object has no attribute 'buy'"
     ]
    }
   ],
   "source": [
    "class Phone:\n",
    "    def __init__(self,brand,camera):\n",
    "        print(\"INSIDE PHONE CONSTRUCTOR\")\n",
    "        self.brand=brand\n",
    "        # self.__price=price\n",
    "        self.camera=camera\n",
    "\n",
    "        print(self.brand,self.camera,)\n",
    "    def __buy(self):\n",
    "        print(\"BUYING A PHONE\")\n",
    "\n",
    "class SmartPhone(Phone):\n",
    "    pass\n",
    "        \n",
    "\n",
    "s=SmartPhone(1000,\"apple\")\n",
    "s.buy()"
   ]
  },
  {
   "cell_type": "code",
   "execution_count": 32,
   "id": "66a32fde",
   "metadata": {},
   "outputs": [
    {
     "name": "stdout",
     "output_type": "stream",
     "text": [
      "100\n",
      "THIS IS CHILD CLASS\n"
     ]
    }
   ],
   "source": [
    "class Parent:\n",
    "    def __init__(self,num):\n",
    "        self.__num=num\n",
    "    def get_num(self):\n",
    "        return self.__num\n",
    "\n",
    "class Child(Parent):\n",
    "    def show(self):\n",
    "        print(\"THIS IS CHILD CLASS\")\n",
    "\n",
    "son = Child(100)\n",
    "print(son.get_num())\n",
    "son.show()"
   ]
  },
  {
   "cell_type": "code",
   "execution_count": 34,
   "id": "6205b5a5",
   "metadata": {},
   "outputs": [
    {
     "name": "stdout",
     "output_type": "stream",
     "text": [
      "child :NUM  100\n"
     ]
    }
   ],
   "source": [
    "class Parent:\n",
    "    def __init__(self,num):\n",
    "        self.__num=num\n",
    "    def get_num(self):\n",
    "        return self.__num\n",
    "\n",
    "class Child(Parent):\n",
    "\n",
    "    def __init__(self,val, num):\n",
    "        self.__val=val\n",
    "        # super().__init__(num)\n",
    "    def get_val(self):\n",
    "        return self.__val\n",
    "\n",
    "son = Child(100,10)\n",
    "# print(\"PARENT :NUM \",son.get_num())\n",
    "print(\"child :NUM \",son.get_val())"
   ]
  },
  {
   "cell_type": "code",
   "execution_count": null,
   "id": "1a82e02e",
   "metadata": {},
   "outputs": [
    {
     "name": "stdout",
     "output_type": "stream",
     "text": [
      "INSIDE SMARTPHONE\n",
      "INSIDE PHONE CONSTRUCTOR\n",
      "BUYING A SMARTPHONE\n",
      "apple\n"
     ]
    }
   ],
   "source": [
    "class Phone:\n",
    "    def __init__(self,price,brand,camera):\n",
    "        print(\"INSIDE PHONE CONSTRUCTOR\")\n",
    "        self.brand=brand\n",
    "        self.price=price\n",
    "        self.camera=camera\n",
    "    \n",
    "    def buy(self):\n",
    "        print(\"BUYING A PHONE\")\n",
    "\n",
    "class SmartPhone(Phone):\n",
    "\n",
    "    def __init__(self, price, brand, camera,os,ram):\n",
    "        self.os=os\n",
    "        self.ram=ram\n",
    "        print(\"INSIDE SMARTPHONE\")\n",
    "        super().__init__(price, brand, camera)\n",
    "\n",
    "    def buy(self):\n",
    "        print(\"BUYING A SMARTPHONE\")\n",
    "        print(self.brand)\n",
    "        \n",
    "\n",
    "s=SmartPhone(1000,\"apple\",1000,'android',32)\n",
    "s.buy()"
   ]
  },
  {
   "cell_type": "code",
   "execution_count": null,
   "id": "02f57ae5",
   "metadata": {},
   "outputs": [
    {
     "ename": "TypeError",
     "evalue": "Child.__init__() takes 1 positional argument but 3 were given",
     "output_type": "error",
     "traceback": [
      "\u001b[31m---------------------------------------------------------------------------\u001b[39m",
      "\u001b[31mTypeError\u001b[39m                                 Traceback (most recent call last)",
      "\u001b[36mCell\u001b[39m\u001b[36m \u001b[39m\u001b[32mIn[15]\u001b[39m\u001b[32m, line 10\u001b[39m\n\u001b[32m      7\u001b[39m         \u001b[38;5;28msuper\u001b[39m().\u001b[34m__init__\u001b[39m()\n\u001b[32m      8\u001b[39m         \u001b[38;5;28mself\u001b[39m.val=\u001b[32m200\u001b[39m\n\u001b[32m---> \u001b[39m\u001b[32m10\u001b[39m son=\u001b[43mChild\u001b[49m\u001b[43m(\u001b[49m\u001b[32;43m100\u001b[39;49m\u001b[43m,\u001b[49m\u001b[32;43m200\u001b[39;49m\u001b[43m)\u001b[49m\n\u001b[32m     11\u001b[39m \u001b[38;5;28mprint\u001b[39m(son.num)\n\u001b[32m     12\u001b[39m \u001b[38;5;28mprint\u001b[39m(son.val)\n",
      "\u001b[31mTypeError\u001b[39m: Child.__init__() takes 1 positional argument but 3 were given"
     ]
    }
   ],
   "source": []
  },
  {
   "cell_type": "code",
   "execution_count": 16,
   "id": "c4b7453d",
   "metadata": {},
   "outputs": [
    {
     "name": "stdout",
     "output_type": "stream",
     "text": [
      "200\n",
      "100\n"
     ]
    }
   ],
   "source": [
    "class Parent:\n",
    "    def __init__(self,num):\n",
    "        self.__num=num\n",
    "\n",
    "    def get_num(self):\n",
    "        return self.__num\n",
    "\n",
    "class Child(Parent):\n",
    "    def __init__(self,num,val):\n",
    "        super().__init__(num)\n",
    "        self.__val=val\n",
    "\n",
    "    def get_val(self):\n",
    "        return self.__val\n",
    "    \n",
    "\n",
    "son=Child(100,200)\n",
    "print(son.get_val())\n",
    "print(son.get_num())"
   ]
  },
  {
   "cell_type": "code",
   "execution_count": 18,
   "id": "39cf36c0",
   "metadata": {},
   "outputs": [
    {
     "name": "stdout",
     "output_type": "stream",
     "text": [
      "100\n",
      "200\n"
     ]
    }
   ],
   "source": [
    "class Parent:\n",
    "    def __init__(self):\n",
    "        self.num=100\n",
    "\n",
    "class Child(Parent):\n",
    "    def __init__(self):\n",
    "        super().__init__()\n",
    "        self.val=200\n",
    "    \n",
    "son=Child()\n",
    "print(son.num)\n",
    "print(son.val)"
   ]
  },
  {
   "cell_type": "code",
   "execution_count": null,
   "id": "fc279aec",
   "metadata": {},
   "outputs": [
    {
     "name": "stdout",
     "output_type": "stream",
     "text": [
      "INSIDE SMARTPHONE\n",
      "INSIDE PHONE CONSTRUCTOR\n",
      "BUYING A SMARTPHONE\n",
      "apple\n",
      "PRODUCT CUSTOMER REVIEW\n"
     ]
    }
   ],
   "source": [
    "class Product:\n",
    "    def review(self):\n",
    "        print(\"PRODUCT CUSTOMER REVIEW\")\n",
    "\n",
    "class Phone():\n",
    "    def __init__(self,price,brand,camera):\n",
    "        print(\"INSIDE PHONE CONSTRUCTOR\")\n",
    "        self.brand=brand\n",
    "        self.price=price\n",
    "        self.camera=camera\n",
    "    \n",
    "    def buy(self):\n",
    "        print(\"BUYING A PHONE\")\n",
    "\n",
    "class SmartPhone(Phone):\n",
    "\n",
    "    def __init__(self, price, brand, camera,os,ram):\n",
    "        self.os=os\n",
    "        self.ram=ram\n",
    "        print(\"INSIDE SMARTPHONE\")\n",
    "        super().__init__(price, brand, camera)\n",
    "\n",
    "    def buy(self):\n",
    "        print(\"BUYING A SMARTPHONE\")\n",
    "        print(self.brand)\n",
    "\n",
    "class FeaturePhone(Phone):\n",
    "    pass\n",
    "\n",
    "\n",
    "s=SmartPhone(1000,\"apple\",1000,'android',32)\n",
    "s.buy()\n",
    "s.review()"
   ]
  },
  {
   "cell_type": "code",
   "execution_count": null,
   "id": "75a894e7",
   "metadata": {},
   "outputs": [
    {
     "name": "stdout",
     "output_type": "stream",
     "text": [
      "BUYING A PHONE\n",
      "PRODUCT CUSTOMER REVIEW\n"
     ]
    }
   ],
   "source": [
    "class Product:\n",
    "    def review(self):\n",
    "        print(\"PRODUCT CUSTOMER REVIEW\")\n",
    "    \n",
    "    def buy(self):\n",
    "        print(\"INSIDE PRODUCT BUY\")\n",
    "\n",
    "class Phone():\n",
    "    def __init__(self,price,brand,camera):\n",
    "        self.brand=brand\n",
    "        self.price=price\n",
    "        self.camera=camera\n",
    "    \n",
    "    def buy(self):\n",
    "        print(\"BUYING A PHONE\")\n",
    "\n",
    "# METHOD RESOLUTION ORDER\n",
    "class SmartPhone(Phone,Product):\n",
    "\n",
    "    def __init__(self, price, brand, camera,os,ram):\n",
    "        self.os=os\n",
    "        self.ram=ram\n",
    "        super().__init__(price, brand, camera)\n",
    "\n",
    "    # def buy(self):\n",
    "    #     print(\"BUYING A SMARTPHONE\")\n",
    "    #     print(self.brand)\n",
    "\n",
    "s=SmartPhone(1000,\"apple\",1000,'android',32)\n",
    "s.buy()\n",
    "s.review()"
   ]
  },
  {
   "cell_type": "code",
   "execution_count": 25,
   "id": "9c1176ec",
   "metadata": {},
   "outputs": [
    {
     "name": "stdout",
     "output_type": "stream",
     "text": [
      "70\n"
     ]
    }
   ],
   "source": [
    "class A:\n",
    "    def m1(self):\n",
    "        return 20\n",
    "class B(A):\n",
    "    def m1(self):\n",
    "        return 30\n",
    "\n",
    "    def m2(self):\n",
    "        return 40\n",
    "\n",
    "class C(B):\n",
    "    def m2(self):\n",
    "        return 20\n",
    "    \n",
    "obj1=A()\n",
    "obj2=B()\n",
    "obj3=C()\n",
    "\n",
    "print(obj1.m1()+obj3.m1()+obj3.m2())\n"
   ]
  },
  {
   "cell_type": "code",
   "execution_count": null,
   "id": "9c1efe7f",
   "metadata": {},
   "outputs": [],
   "source": []
  },
  {
   "cell_type": "markdown",
   "id": "41598537",
   "metadata": {},
   "source": [
    "<h1>POLYMORPHISM</h1>"
   ]
  },
  {
   "cell_type": "markdown",
   "id": "b61539d9",
   "metadata": {},
   "source": []
  },
  {
   "cell_type": "code",
   "execution_count": 7,
   "id": "c8364765",
   "metadata": {},
   "outputs": [],
   "source": [
    "class Shape:\n",
    "\n",
    "    def area(self,r):\n",
    "        return 3.14*r*r\n",
    "    def area(self,l,b):\n",
    "        return l*b"
   ]
  },
  {
   "cell_type": "code",
   "execution_count": 5,
   "id": "2f6543c8",
   "metadata": {},
   "outputs": [
    {
     "ename": "TypeError",
     "evalue": "Shape.area() missing 1 required positional argument: 'b'",
     "output_type": "error",
     "traceback": [
      "\u001b[31m---------------------------------------------------------------------------\u001b[39m",
      "\u001b[31mTypeError\u001b[39m                                 Traceback (most recent call last)",
      "\u001b[36mCell\u001b[39m\u001b[36m \u001b[39m\u001b[32mIn[5]\u001b[39m\u001b[32m, line 2\u001b[39m\n\u001b[32m      1\u001b[39m S1=Shape()\n\u001b[32m----> \u001b[39m\u001b[32m2\u001b[39m \u001b[43mS1\u001b[49m\u001b[43m.\u001b[49m\u001b[43marea\u001b[49m\u001b[43m(\u001b[49m\u001b[32;43m3\u001b[39;49m\u001b[43m)\u001b[49m\n",
      "\u001b[31mTypeError\u001b[39m: Shape.area() missing 1 required positional argument: 'b'"
     ]
    }
   ],
   "source": [
    "S1=Shape()\n",
    "S1.area(3)"
   ]
  },
  {
   "cell_type": "code",
   "execution_count": null,
   "id": "3b1593a2",
   "metadata": {},
   "outputs": [],
   "source": []
  }
 ],
 "metadata": {
  "kernelspec": {
   "display_name": "virenv",
   "language": "python",
   "name": "python3"
  },
  "language_info": {
   "codemirror_mode": {
    "name": "ipython",
    "version": 3
   },
   "file_extension": ".py",
   "mimetype": "text/x-python",
   "name": "python",
   "nbconvert_exporter": "python",
   "pygments_lexer": "ipython3",
   "version": "3.12.7"
  }
 },
 "nbformat": 4,
 "nbformat_minor": 5
}
