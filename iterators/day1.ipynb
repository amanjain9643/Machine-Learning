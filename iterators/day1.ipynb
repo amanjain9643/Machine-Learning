{
 "cells": [
  {
   "cell_type": "code",
   "execution_count": 1,
   "id": "48d07e98",
   "metadata": {},
   "outputs": [
    {
     "name": "stdout",
     "output_type": "stream",
     "text": [
      "1\n",
      "2\n",
      "3\n"
     ]
    }
   ],
   "source": [
    "L=[1,2,3]\n",
    "for i in L:\n",
    "    print(i)"
   ]
  },
  {
   "cell_type": "code",
   "execution_count": 10,
   "id": "55d1f1ae",
   "metadata": {},
   "outputs": [
    {
     "name": "stdout",
     "output_type": "stream",
     "text": [
      "782.2109375\n",
      "0.046875\n"
     ]
    }
   ],
   "source": [
    "import sys\n",
    "x=[i for i in range(1,100000)]\n",
    "print(sys.getsizeof(x)/1024)\n",
    "\n",
    "y=range(1,10000000)\n",
    "print(sys.getsizeof(y)/1024)"
   ]
  },
  {
   "cell_type": "code",
   "execution_count": null,
   "id": "92549ea8",
   "metadata": {},
   "outputs": [],
   "source": [
    "L=[1,2,3]\n",
    "X=[i for i in dir(L)]"
   ]
  },
  {
   "cell_type": "code",
   "execution_count": null,
   "id": "bbec2ce9",
   "metadata": {},
   "outputs": [
    {
     "name": "stdout",
     "output_type": "stream",
     "text": [
      "YES\n"
     ]
    }
   ],
   "source": []
  },
  {
   "cell_type": "code",
   "execution_count": null,
   "id": "9a627086",
   "metadata": {},
   "outputs": [],
   "source": [
    "def isiter(x):\n",
    "    Y=[i for i in dir(x)]\n",
    "    if '__iter__' in Y:\n",
    "        print(\"YES\")\n",
    "    else :\n",
    "        print(\"NO\")\n"
   ]
  },
  {
   "cell_type": "code",
   "execution_count": 24,
   "id": "b0d6ded4",
   "metadata": {},
   "outputs": [
    {
     "name": "stdout",
     "output_type": "stream",
     "text": [
      "YES\n"
     ]
    }
   ],
   "source": [
    "L=[1,2,3]\n",
    "isiter(iter(L))"
   ]
  },
  {
   "cell_type": "code",
   "execution_count": 29,
   "id": "2df1b552",
   "metadata": {},
   "outputs": [
    {
     "name": "stdout",
     "output_type": "stream",
     "text": [
      "1\n",
      "2\n",
      "3\n",
      "BROKEN\n"
     ]
    }
   ],
   "source": [
    "L=[1,2,3]\n",
    "\n",
    "iter_num=iter(L)\n",
    "\n",
    "try:\n",
    "    print(next(iter_num))\n",
    "except StopIteration:\n",
    "    print(\"BROKEN\")\n",
    "\n",
    "try:\n",
    "    print(next(iter_num))\n",
    "\n",
    "except StopIteration:\n",
    "    print(\"BROKEN\")\n",
    "\n",
    "try:\n",
    "    print(next(iter_num))\n",
    "\n",
    "except StopIteration:\n",
    "    print(\"BROKEN\")\n",
    "try:\n",
    "    print(next(iter_num))\n",
    "\n",
    "except StopIteration:\n",
    "    print(\"BROKEN\")"
   ]
  },
  {
   "cell_type": "code",
   "execution_count": 37,
   "id": "dff1ec45",
   "metadata": {},
   "outputs": [],
   "source": [
    "def customForloop(iterable):\n",
    "    itera=iter(iterable)\n",
    "    iterator=iter(itera)\n",
    "    while True:\n",
    "        try:\n",
    "            print(next(iterator))\n",
    "        except StopIteration:\n",
    "            break"
   ]
  },
  {
   "cell_type": "code",
   "execution_count": 38,
   "id": "a1a8430c",
   "metadata": {},
   "outputs": [
    {
     "name": "stdout",
     "output_type": "stream",
     "text": [
      "1\n",
      "2\n",
      "3\n"
     ]
    }
   ],
   "source": [
    "customForloop(L)"
   ]
  },
  {
   "cell_type": "code",
   "execution_count": 12,
   "id": "eec66ef9",
   "metadata": {},
   "outputs": [],
   "source": [
    "class MyRange:\n",
    "    def __init__(self,start,end):\n",
    "        self.start=start\n",
    "        self.end=end\n",
    "\n",
    "    def __iter__(self):\n",
    "        return MyRangeIterator(self)"
   ]
  },
  {
   "cell_type": "code",
   "execution_count": 3,
   "id": "a7923e17",
   "metadata": {},
   "outputs": [],
   "source": [
    "class MyRange:\n",
    "    def __init__(self,start,end):\n",
    "        self.start=start\n",
    "        self.end=end\n",
    "\n",
    "    def __iter__(self):\n",
    "        return MyRangeIterator(self)\n",
    "\n",
    "class MyRangeIterator:\n",
    "    \n",
    "    def __init__(self,iterable_obj):\n",
    "        self.iterable=iterable_obj\n",
    "\n",
    "    def __iter__(self):\n",
    "        return self\n",
    "\n",
    "    def __next__(self):\n",
    "        if self.iterable.start>=self.iterable.end:\n",
    "            raise StopIteration\n",
    "        current = self.iterable.start\n",
    "        self.iterable.start+=1\n",
    "        return current\n",
    "    "
   ]
  },
  {
   "cell_type": "code",
   "execution_count": null,
   "id": "d709b68f",
   "metadata": {},
   "outputs": [
    {
     "name": "stdout",
     "output_type": "stream",
     "text": [
      "1\n",
      "2\n",
      "3\n",
      "4\n",
      "5\n"
     ]
    }
   ],
   "source": []
  },
  {
   "cell_type": "code",
   "execution_count": null,
   "id": "25ba78f2",
   "metadata": {},
   "outputs": [],
   "source": []
  }
 ],
 "metadata": {
  "kernelspec": {
   "display_name": "virenv",
   "language": "python",
   "name": "python3"
  },
  "language_info": {
   "codemirror_mode": {
    "name": "ipython",
    "version": 3
   },
   "file_extension": ".py",
   "mimetype": "text/x-python",
   "name": "python",
   "nbconvert_exporter": "python",
   "pygments_lexer": "ipython3",
   "version": "3.12.7"
  }
 },
 "nbformat": 4,
 "nbformat_minor": 5
}
