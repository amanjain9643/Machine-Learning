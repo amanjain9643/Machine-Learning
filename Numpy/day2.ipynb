{
 "cells": [
  {
   "cell_type": "code",
   "execution_count": 3,
   "id": "df77644d",
   "metadata": {},
   "outputs": [
    {
     "data": {
      "text/plain": [
       "89095160"
      ]
     },
     "execution_count": 3,
     "metadata": {},
     "output_type": "execute_result"
    }
   ],
   "source": [
    "a=[i for i in range(10000000)]\n",
    "b=[i for i in range(10000000,20000000)]\n",
    "c=[]\n",
    "\n",
    "import sys\n",
    "import time\n",
    "\n",
    "# start=time.time()\n",
    "# for i in range(len(a)):\n",
    "#     c.append(a[i]+b[i])\n",
    "# print(time.time()-start)\n",
    "sys.getsizeof(a)\n"
   ]
  },
  {
   "cell_type": "code",
   "execution_count": 4,
   "id": "4958bc8b",
   "metadata": {},
   "outputs": [
    {
     "data": {
      "text/plain": [
       "20000112"
      ]
     },
     "execution_count": 4,
     "metadata": {},
     "output_type": "execute_result"
    }
   ],
   "source": [
    "import numpy as np\n",
    "a=np.arange(10000000,dtype=np.int16)\n",
    "b=np.arange(10000000,20000000)\n",
    "sys.getsizeof(a)\n",
    "\n",
    "# start=time.time()\n",
    "# c=a+b\n",
    "# print(time.time()-start)"
   ]
  },
  {
   "cell_type": "markdown",
   "id": "367ad983",
   "metadata": {},
   "source": [
    "<h1>FANCY INDEXING</h1>"
   ]
  },
  {
   "cell_type": "code",
   "execution_count": 19,
   "id": "2e1299d3",
   "metadata": {},
   "outputs": [
    {
     "data": {
      "text/plain": [
       "array([[ 0,  1,  2,  3],\n",
       "       [ 4,  5,  6,  7],\n",
       "       [ 8,  9, 10, 11],\n",
       "       [12, 13, 14, 15],\n",
       "       [16, 17, 18, 19],\n",
       "       [20, 21, 22, 23]])"
      ]
     },
     "execution_count": 19,
     "metadata": {},
     "output_type": "execute_result"
    }
   ],
   "source": [
    "a=np.arange(24).reshape(6,4)\n",
    "\n",
    "a"
   ]
  },
  {
   "cell_type": "code",
   "execution_count": 20,
   "id": "7fa3dfcf",
   "metadata": {},
   "outputs": [
    {
     "data": {
      "text/plain": [
       "array([[ 0,  1,  2,  3],\n",
       "       [ 8,  9, 10, 11],\n",
       "       [12, 13, 14, 15],\n",
       "       [20, 21, 22, 23]])"
      ]
     },
     "execution_count": 20,
     "metadata": {},
     "output_type": "execute_result"
    }
   ],
   "source": [
    "a[[0,2,3,5]]"
   ]
  },
  {
   "cell_type": "code",
   "execution_count": 26,
   "id": "2b97fca3",
   "metadata": {},
   "outputs": [],
   "source": [
    "    # BOOLEAN INDEXING\n",
    "import numpy as np"
   ]
  },
  {
   "cell_type": "code",
   "execution_count": 31,
   "id": "7da4ab0a",
   "metadata": {},
   "outputs": [],
   "source": [
    "a=np.random.randint(1,100,24).reshape(6,4)"
   ]
  },
  {
   "cell_type": "code",
   "execution_count": 32,
   "id": "7a77f0b0",
   "metadata": {},
   "outputs": [
    {
     "data": {
      "text/plain": [
       "array([89, 90, 88, 54, 82, 68, 56, 86, 80, 58, 91, 78])"
      ]
     },
     "execution_count": 32,
     "metadata": {},
     "output_type": "execute_result"
    }
   ],
   "source": [
    "a[a>50]"
   ]
  },
  {
   "cell_type": "code",
   "execution_count": 40,
   "id": "59a0bb3d",
   "metadata": {},
   "outputs": [
    {
     "data": {
      "text/plain": [
       "array([90, 88, 54, 82, 68, 56, 86, 80, 58, 78])"
      ]
     },
     "execution_count": 40,
     "metadata": {},
     "output_type": "execute_result"
    }
   ],
   "source": [
    "# FIND OUT EVEN NUMBERS\n",
    "a[(a%2==0 )&( a>50)]"
   ]
  },
  {
   "cell_type": "code",
   "execution_count": 41,
   "id": "81bfbc8f",
   "metadata": {},
   "outputs": [
    {
     "data": {
      "text/plain": [
       "array([56, 21, 91])"
      ]
     },
     "execution_count": 41,
     "metadata": {},
     "output_type": "execute_result"
    }
   ],
   "source": [
    "a[a%7==0]"
   ]
  },
  {
   "cell_type": "code",
   "execution_count": null,
   "id": "0fc3a855",
   "metadata": {},
   "outputs": [],
   "source": []
  },
  {
   "cell_type": "markdown",
   "id": "f2fcc636",
   "metadata": {},
   "source": [
    "<h1>BROADCASTING</h1>"
   ]
  },
  {
   "cell_type": "code",
   "execution_count": 50,
   "id": "8e4f2ee0",
   "metadata": {},
   "outputs": [
    {
     "name": "stdout",
     "output_type": "stream",
     "text": [
      "[[0 1 2]\n",
      " [3 4 5]]\n",
      "[[ 6  7  8]\n",
      " [ 9 10 11]]\n"
     ]
    }
   ],
   "source": [
    "a=np.arange(6).reshape(2,3)\n",
    "b=np.arange(6,12).reshape(2,3)\n",
    "\n",
    "# a+b\n",
    "print(a)\n",
    "print(b)\n",
    "# a+b"
   ]
  },
  {
   "cell_type": "code",
   "execution_count": 49,
   "id": "088f12f6",
   "metadata": {},
   "outputs": [
    {
     "data": {
      "text/plain": [
       "array([[0, 2, 4],\n",
       "       [3, 5, 7]])"
      ]
     },
     "execution_count": 49,
     "metadata": {},
     "output_type": "execute_result"
    }
   ],
   "source": [
    "a=np.arange(6).reshape(2,3)\n",
    "b=np.arange(3).reshape(1,3)\n",
    "\n",
    "a+b"
   ]
  },
  {
   "cell_type": "code",
   "execution_count": null,
   "id": "0e7b77a0",
   "metadata": {},
   "outputs": [
    {
     "data": {
      "text/plain": [
       "array([[ 6,  7,  8],\n",
       "       [ 9, 10, 11]])"
      ]
     },
     "execution_count": 44,
     "metadata": {},
     "output_type": "execute_result"
    }
   ],
   "source": []
  },
  {
   "cell_type": "code",
   "execution_count": 51,
   "id": "a0d862bf",
   "metadata": {},
   "outputs": [
    {
     "ename": "ValueError",
     "evalue": "operands could not be broadcast together with shapes (5,) (7,) ",
     "output_type": "error",
     "traceback": [
      "\u001b[31m---------------------------------------------------------------------------\u001b[39m",
      "\u001b[31mValueError\u001b[39m                                Traceback (most recent call last)",
      "\u001b[36mCell\u001b[39m\u001b[36m \u001b[39m\u001b[32mIn[51]\u001b[39m\u001b[32m, line 3\u001b[39m\n\u001b[32m      1\u001b[39m a=np.arange(\u001b[32m5\u001b[39m)\n\u001b[32m      2\u001b[39m b=np.arange(\u001b[32m7\u001b[39m)\n\u001b[32m----> \u001b[39m\u001b[32m3\u001b[39m \u001b[43ma\u001b[49m\u001b[43m+\u001b[49m\u001b[43mb\u001b[49m\n",
      "\u001b[31mValueError\u001b[39m: operands could not be broadcast together with shapes (5,) (7,) "
     ]
    }
   ],
   "source": [
    "a=np.arange(5)\n",
    "b=np.arange(7)\n",
    "a+b\n"
   ]
  },
  {
   "cell_type": "code",
   "execution_count": null,
   "id": "0212fdbc",
   "metadata": {},
   "outputs": [],
   "source": []
  },
  {
   "cell_type": "markdown",
   "id": "0fa548f6",
   "metadata": {},
   "source": [
    "<h1>MATHEMATICAL FORMULAS</h1>"
   ]
  },
  {
   "cell_type": "markdown",
   "id": "67cf005e",
   "metadata": {},
   "source": [
    "<!-- sigmoid -->"
   ]
  },
  {
   "cell_type": "code",
   "execution_count": 61,
   "id": "0c2bdc7c",
   "metadata": {},
   "outputs": [],
   "source": [
    "a=np.arange(10)\n"
   ]
  },
  {
   "cell_type": "code",
   "execution_count": 63,
   "id": "a937d1b1",
   "metadata": {},
   "outputs": [
    {
     "data": {
      "text/plain": [
       "array([5.00000000e-01, 2.68941421e-01, 1.19202922e-01, 4.74258732e-02,\n",
       "       1.79862100e-02, 6.69285092e-03, 2.47262316e-03, 9.11051194e-04,\n",
       "       3.35350130e-04, 1.23394576e-04])"
      ]
     },
     "execution_count": 63,
     "metadata": {},
     "output_type": "execute_result"
    }
   ],
   "source": [
    "# SIGMOID\n",
    "\n",
    "def sigmoid(array):\n",
    "    return 1/(1+np.exp(array))\n",
    "\n",
    "sigmoid(a)"
   ]
  },
  {
   "cell_type": "code",
   "execution_count": 65,
   "id": "3b9c7045",
   "metadata": {},
   "outputs": [],
   "source": [
    "# MEAN SQUARED ERROR\n",
    "actual=np.random.randint(1,50,25)\n",
    "predicted=np.random.randint(1,50,25)"
   ]
  },
  {
   "cell_type": "code",
   "execution_count": 67,
   "id": "2be0e664",
   "metadata": {},
   "outputs": [
    {
     "name": "stdout",
     "output_type": "stream",
     "text": [
      "[ 3 10 23 44 44 30 46 10 40 13 48 34 28 36  6  2  6 39 32 34 28 36 16 14\n",
      " 27]\n",
      "[ 4  7 35 45 30 40 37  5 45 13 18 39 45 45  6 11  9  2 21 10 32 12  6 47\n",
      " 19]\n"
     ]
    }
   ],
   "source": [
    "print(actual)\n",
    "print(predicted)"
   ]
  },
  {
   "cell_type": "code",
   "execution_count": 72,
   "id": "50352462",
   "metadata": {},
   "outputs": [],
   "source": [
    "def mse(actual,predicted):\n",
    "   return np.mean((actual-predicted)**2)"
   ]
  },
  {
   "cell_type": "code",
   "execution_count": 73,
   "id": "8ebfe82d",
   "metadata": {},
   "outputs": [
    {
     "name": "stdout",
     "output_type": "stream",
     "text": [
      "235.12\n"
     ]
    }
   ],
   "source": [
    "print(mse(actual,predicted))"
   ]
  },
  {
   "cell_type": "code",
   "execution_count": null,
   "id": "d181067d",
   "metadata": {},
   "outputs": [],
   "source": [
    "# BINARY CROSS ENTROPY"
   ]
  }
 ],
 "metadata": {
  "kernelspec": {
   "display_name": "virenv",
   "language": "python",
   "name": "python3"
  },
  "language_info": {
   "codemirror_mode": {
    "name": "ipython",
    "version": 3
   },
   "file_extension": ".py",
   "mimetype": "text/x-python",
   "name": "python",
   "nbconvert_exporter": "python",
   "pygments_lexer": "ipython3",
   "version": "3.12.7"
  }
 },
 "nbformat": 4,
 "nbformat_minor": 5
}
