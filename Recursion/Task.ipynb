{
 "cells": [
  {
   "cell_type": "code",
   "execution_count": null,
   "id": "3f66a25b",
   "metadata": {},
   "outputs": [
    {
     "name": "stdout",
     "output_type": "stream",
     "text": [
      "12\n"
     ]
    }
   ],
   "source": [
    "def multiply(a,b):\n",
    "    result=0\n",
    "    for i in range(b):\n",
    "        result=result+a\n",
    "    print(result)\n",
    "\n",
    "multiply(3,4)"
   ]
  },
  {
   "cell_type": "code",
   "execution_count": 29,
   "id": "9bb28cba",
   "metadata": {},
   "outputs": [
    {
     "data": {
      "text/plain": [
       "12"
      ]
     },
     "execution_count": 29,
     "metadata": {},
     "output_type": "execute_result"
    }
   ],
   "source": [
    "\n",
    "def multiply(a,b):\n",
    "    if b==1 :\n",
    "        return a\n",
    "    else:\n",
    "       return a+multiply(a,b-1)\n",
    "\n",
    "multiply(3,4)"
   ]
  },
  {
   "cell_type": "code",
   "execution_count": 30,
   "id": "7c9c1614",
   "metadata": {},
   "outputs": [],
   "source": [
    "def factorial(a):\n",
    "    if(a==0):\n",
    "        return 1\n",
    "    return a*factorial(a-1)"
   ]
  },
  {
   "cell_type": "code",
   "execution_count": 32,
   "id": "36996966",
   "metadata": {},
   "outputs": [
    {
     "name": "stdout",
     "output_type": "stream",
     "text": [
      "120\n"
     ]
    }
   ],
   "source": [
    "print(factorial(5))"
   ]
  },
  {
   "cell_type": "code",
   "execution_count": 48,
   "id": "cd12ca26",
   "metadata": {},
   "outputs": [],
   "source": [
    "def palindrome(s):\n",
    "    print(s)\n",
    "    if(s==\"\" or len(s)==1):\n",
    "        return True\n",
    "    elif s[0]==s[-1]:\n",
    "        return palindrome(s[1:-1])\n",
    "    else :\n",
    "        return False"
   ]
  },
  {
   "cell_type": "code",
   "execution_count": 47,
   "id": "66eb2fc2",
   "metadata": {},
   "outputs": [
    {
     "name": "stdout",
     "output_type": "stream",
     "text": [
      "naman\n",
      "ama\n",
      "m\n",
      "\n"
     ]
    },
    {
     "data": {
      "text/plain": [
       "True"
      ]
     },
     "execution_count": 47,
     "metadata": {},
     "output_type": "execute_result"
    }
   ],
   "source": [
    "palindrome(\"naman\")"
   ]
  },
  {
   "cell_type": "code",
   "execution_count": 78,
   "id": "34715cb7",
   "metadata": {},
   "outputs": [],
   "source": [
    "d={i:0 for i in range(1302)}\n",
    "d[0]=1\n",
    "d[1]=1\n",
    "def fib(num):\n",
    "    if d[num]!=0:\n",
    "        return d[num]\n",
    "    else:\n",
    "        d[num]=fib(num-2)+fib(num-1)\n",
    "        return d[num]"
   ]
  },
  {
   "cell_type": "code",
   "execution_count": 79,
   "id": "0b28a864",
   "metadata": {},
   "outputs": [
    {
     "data": {
      "text/plain": [
       "34949016844286609244702569396854666560394034993558941124290697993541159157408353213414067918381143829834632521368500895227875598278931979619120652866805525601567068468443815905896034842579691540576942087418297880155633577640852959781937445848583239709367624451704319243301"
      ]
     },
     "execution_count": 79,
     "metadata": {},
     "output_type": "execute_result"
    }
   ],
   "source": [
    "fib(1300)"
   ]
  },
  {
   "cell_type": "code",
   "execution_count": null,
   "id": "346fbc09",
   "metadata": {},
   "outputs": [],
   "source": []
  }
 ],
 "metadata": {
  "kernelspec": {
   "display_name": "virenv",
   "language": "python",
   "name": "python3"
  },
  "language_info": {
   "codemirror_mode": {
    "name": "ipython",
    "version": 3
   },
   "file_extension": ".py",
   "mimetype": "text/x-python",
   "name": "python",
   "nbconvert_exporter": "python",
   "pygments_lexer": "ipython3",
   "version": "3.12.7"
  }
 },
 "nbformat": 4,
 "nbformat_minor": 5
}
