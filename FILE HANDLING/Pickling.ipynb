{
 "cells": [
  {
   "cell_type": "markdown",
   "id": "f42afdeb",
   "metadata": {},
   "source": [
    "<h1>PICKLING</h1>"
   ]
  },
  {
   "cell_type": "code",
   "execution_count": 2,
   "id": "5d426f72",
   "metadata": {},
   "outputs": [],
   "source": [
    "class Person:\n",
    "    def __init__(self,name,age):\n",
    "        self.name=name\n",
    "        self.age=age\n",
    "    def display_info(self):\n",
    "        print(self.name,self.age)\n"
   ]
  },
  {
   "cell_type": "code",
   "execution_count": 3,
   "id": "b6d55e32",
   "metadata": {},
   "outputs": [],
   "source": [
    "p=Person('nitish',33)"
   ]
  },
  {
   "cell_type": "code",
   "execution_count": 6,
   "id": "ef43620e",
   "metadata": {},
   "outputs": [],
   "source": [
    "import pickle\n",
    "\n",
    "with open('/Users/apple/Documents/Machine-Learning/FILE HANDLING/utils/person.pkl','wb') as f:\n",
    "    pickle.dump(p,f)"
   ]
  },
  {
   "cell_type": "code",
   "execution_count": 7,
   "id": "858a7560",
   "metadata": {},
   "outputs": [],
   "source": [
    "with open('/Users/apple/Documents/Machine-Learning/FILE HANDLING/utils/person.pkl','rb') as f:\n",
    "    p=pickle.load(f)"
   ]
  },
  {
   "cell_type": "code",
   "execution_count": null,
   "id": "f27e15a7",
   "metadata": {},
   "outputs": [
    {
     "data": {
      "text/plain": [
       "<__main__.Person at 0x104bd17c0>"
      ]
     },
     "execution_count": 9,
     "metadata": {},
     "output_type": "execute_result"
    }
   ],
   "source": []
  },
  {
   "cell_type": "code",
   "execution_count": null,
   "id": "6c3bf48c",
   "metadata": {},
   "outputs": [],
   "source": []
  }
 ],
 "metadata": {
  "kernelspec": {
   "display_name": "virenv",
   "language": "python",
   "name": "python3"
  },
  "language_info": {
   "codemirror_mode": {
    "name": "ipython",
    "version": 3
   },
   "file_extension": ".py",
   "mimetype": "text/x-python",
   "name": "python",
   "nbconvert_exporter": "python",
   "pygments_lexer": "ipython3",
   "version": "3.12.7"
  }
 },
 "nbformat": 4,
 "nbformat_minor": 5
}
