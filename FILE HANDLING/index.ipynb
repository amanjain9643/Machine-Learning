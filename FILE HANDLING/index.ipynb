{
 "cells": [
  {
   "cell_type": "code",
   "execution_count": 27,
   "id": "eeb57065",
   "metadata": {},
   "outputs": [],
   "source": [
    "f=open('sample.txt','w')\n",
    "L=[1,2,3,4]\n",
    "f.write(str(L))\n",
    "f.close()"
   ]
  },
  {
   "cell_type": "code",
   "execution_count": 32,
   "id": "5b7b62d3",
   "metadata": {},
   "outputs": [],
   "source": [
    "f=open('sample.txt','a')\n",
    "L=['AMANJAin\\n','chor college\\n','gareeb college\\n','poor college\\n']\n",
    "f.writelines(L)\n",
    "f.close()"
   ]
  },
  {
   "cell_type": "code",
   "execution_count": 5,
   "id": "0685977f",
   "metadata": {},
   "outputs": [
    {
     "name": "stdout",
     "output_type": "stream",
     "text": [
      "[1, 2, 3, 4]\n",
      "[2, 3, 4, 5]\n",
      "[2, 3, 4, 5]AMANJAin\n",
      "chor college\n",
      "gareeb college\n",
      "poor college\n",
      "\n"
     ]
    },
    {
     "ename": "ValueError",
     "evalue": "I/O operation on closed file.",
     "output_type": "error",
     "traceback": [
      "\u001b[31m---------------------------------------------------------------------------\u001b[39m",
      "\u001b[31mValueError\u001b[39m                                Traceback (most recent call last)",
      "\u001b[36mCell\u001b[39m\u001b[36m \u001b[39m\u001b[32mIn[5]\u001b[39m\u001b[32m, line 4\u001b[39m\n\u001b[32m      1\u001b[39m \u001b[38;5;28;01mwith\u001b[39;00m \u001b[38;5;28mopen\u001b[39m(\u001b[33m'\u001b[39m\u001b[33msample.txt\u001b[39m\u001b[33m'\u001b[39m,\u001b[33m'\u001b[39m\u001b[33mr\u001b[39m\u001b[33m'\u001b[39m) \u001b[38;5;28;01mas\u001b[39;00m f:\n\u001b[32m      2\u001b[39m     \u001b[38;5;28mprint\u001b[39m(f.read())\n\u001b[32m----> \u001b[39m\u001b[32m4\u001b[39m \u001b[38;5;28mprint\u001b[39m(\u001b[43mf\u001b[49m\u001b[43m.\u001b[49m\u001b[43mread\u001b[49m\u001b[43m(\u001b[49m\u001b[43m)\u001b[49m)\n",
      "\u001b[31mValueError\u001b[39m: I/O operation on closed file."
     ]
    }
   ],
   "source": [
    "with open('sample.txt','r') as f:\n",
    "    print(f.read())\n",
    "\n",
    "print(f.read())"
   ]
  },
  {
   "cell_type": "code",
   "execution_count": 6,
   "id": "eec832e3",
   "metadata": {},
   "outputs": [],
   "source": [
    "big_l=['HEllo World' for i in range(1,100)]"
   ]
  },
  {
   "cell_type": "code",
   "execution_count": 12,
   "id": "ba9504c0",
   "metadata": {},
   "outputs": [],
   "source": [
    "with open('sample.txt','w') as f:\n",
    "    f.writelines(big_l)\n",
    "    f.seek(1200)\n",
    "    f.writelines(big_l)\n"
   ]
  },
  {
   "cell_type": "code",
   "execution_count": 15,
   "id": "49504419",
   "metadata": {},
   "outputs": [],
   "source": [
    "with open('image.png','rb') as f:\n",
    "    with open('image_copy.jpg','wb') as f1: \n",
    "        f1.write(f.read())"
   ]
  },
  {
   "cell_type": "code",
   "execution_count": 27,
   "id": "723b16c7",
   "metadata": {},
   "outputs": [],
   "source": [
    "import json\n",
    "L=[1,2,3,4]\n",
    "\n",
    "with open('demo.json','w') as f:\n",
    "    json.dump(L,f)"
   ]
  },
  {
   "cell_type": "code",
   "execution_count": null,
   "id": "b5f48a56",
   "metadata": {},
   "outputs": [],
   "source": [
    "d={'name':\"aman\",\"colleg\":\"chor college\"}\n",
    "\n",
    "with open('demo.json','w') as f:\n",
    "    json.dump(d,f,indent=4)\n",
    "\n",
    "with open('demo.json','r') as f:\n",
    "    print(json.load(r))"
   ]
  },
  {
   "cell_type": "code",
   "execution_count": null,
   "id": "ead906cc",
   "metadata": {},
   "outputs": [],
   "source": []
  }
 ],
 "metadata": {
  "kernelspec": {
   "display_name": "virenv",
   "language": "python",
   "name": "python3"
  },
  "language_info": {
   "codemirror_mode": {
    "name": "ipython",
    "version": 3
   },
   "file_extension": ".py",
   "mimetype": "text/x-python",
   "name": "python",
   "nbconvert_exporter": "python",
   "pygments_lexer": "ipython3",
   "version": "3.12.7"
  }
 },
 "nbformat": 4,
 "nbformat_minor": 5
}
