{
 "cells": [
  {
   "cell_type": "markdown",
   "id": "cdc63820",
   "metadata": {},
   "source": [
    "<h1>TASK1</h1>"
   ]
  },
  {
   "cell_type": "code",
   "execution_count": 19,
   "id": "1a7e0535",
   "metadata": {},
   "outputs": [],
   "source": [
    "def get_file_line():\n",
    "    filename=input(\"enternfilename\")\n",
    "    L=[]\n",
    "    with open(filename,'r') as f:\n",
    "        L=f.readlines()\n",
    "    return L[-1]\n",
    "\n",
    "# /Users/apple/Documents/Machine-Learning/FILE HANDLING/utils/sample.txt"
   ]
  },
  {
   "cell_type": "code",
   "execution_count": 20,
   "id": "5744c9d0",
   "metadata": {},
   "outputs": [
    {
     "data": {
      "text/plain": [
       "'boy'"
      ]
     },
     "execution_count": 20,
     "metadata": {},
     "output_type": "execute_result"
    }
   ],
   "source": [
    "get_file_line()"
   ]
  },
  {
   "cell_type": "code",
   "execution_count": 9,
   "id": "b200361d",
   "metadata": {},
   "outputs": [
    {
     "name": "stdout",
     "output_type": "stream",
     "text": [
      "boy\n"
     ]
    }
   ],
   "source": [
    "print(L[-1])"
   ]
  },
  {
   "cell_type": "markdown",
   "id": "080ef887",
   "metadata": {},
   "source": [
    "<H1>TASK2</H1>"
   ]
  },
  {
   "cell_type": "code",
   "execution_count": null,
   "id": "a37f8c4e",
   "metadata": {},
   "outputs": [],
   "source": [
    "import pickle\n",
    "file=input(\"ENTER PATH FOR FILE\") \n",
    "\n",
    "vowels=['a','e','i','o','u']\n",
    "d={i:0 for i in vowels}\n",
    "with open(file ,'r') as f:\n",
    "    while True:\n",
    "        x=f.readline()\n",
    "        if x=='':\n",
    "            break\n",
    "        else :\n",
    "            for i in x:\n",
    "                for j in i :\n",
    "                    if j in vowels:\n",
    "                        d[j]\n",
    "\n"
   ]
  },
  {
   "cell_type": "code",
   "execution_count": 17,
   "id": "104d1d6b",
   "metadata": {},
   "outputs": [
    {
     "data": {
      "text/plain": [
       "{'a': 4, 'i': 2, 'e': 2, 'o': 4, 'u': 1}"
      ]
     },
     "execution_count": 17,
     "metadata": {},
     "output_type": "execute_result"
    }
   ],
   "source": [
    "d"
   ]
  },
  {
   "cell_type": "markdown",
   "id": "508bc8b4",
   "metadata": {},
   "source": [
    "<h1>TASK 3</h1>"
   ]
  },
  {
   "cell_type": "code",
   "execution_count": 32,
   "id": "f3ce3ab2",
   "metadata": {},
   "outputs": [],
   "source": [
    "z=[]\n",
    "with open(\"/Users/apple/Documents/Machine-Learning/FILE HANDLING/utils/task3file.txt\") as f:\n",
    "    x= f.readlines()\n",
    "    for i in x :\n",
    "        z.append(i.split())"
   ]
  },
  {
   "cell_type": "code",
   "execution_count": 33,
   "id": "03ca1f9b",
   "metadata": {},
   "outputs": [
    {
     "data": {
      "text/plain": [
       "[['1', '2'], ['3', '4'], ['5', '6'], ['7', '8'], ['9', '10']]"
      ]
     },
     "execution_count": 33,
     "metadata": {},
     "output_type": "execute_result"
    }
   ],
   "source": [
    "z"
   ]
  },
  {
   "cell_type": "code",
   "execution_count": 34,
   "id": "61ed7ae9",
   "metadata": {},
   "outputs": [],
   "source": [
    "ans=[]\n",
    "for i in z :\n",
    "    ans.append([int(i[0])*int(i[1])])"
   ]
  },
  {
   "cell_type": "code",
   "execution_count": null,
   "id": "f5294501",
   "metadata": {},
   "outputs": [
    {
     "data": {
      "text/plain": [
       "[[2], [12], [30], [56], [90]]"
      ]
     },
     "execution_count": 36,
     "metadata": {},
     "output_type": "execute_result"
    }
   ],
   "source": []
  },
  {
   "cell_type": "code",
   "execution_count": 47,
   "id": "8b32d91a",
   "metadata": {},
   "outputs": [],
   "source": [
    "total=0\n",
    "with open(\"/Users/apple/Documents/Machine-Learning/FILE HANDLING/utils/task3file.txt\",'w') as f:\n",
    "    for i in range(0,len(ans)):\n",
    "        total+=ans[i][0]\n",
    "        y=\"{}\\t\\t{}\\t\\t{}\".format(z[i][0],z[i][1],ans[i][0])\n",
    "        f.write(str(y))\n",
    "        f.write('\\n')\n",
    "    f.write('total\\t\\t\\t{}'.format(total))"
   ]
  },
  {
   "cell_type": "code",
   "execution_count": 57,
   "id": "9ddf75a0",
   "metadata": {},
   "outputs": [
    {
     "name": "stdout",
     "output_type": "stream",
     "text": [
      "['1\\t2', '3\\t4', '5\\t6', '7\\t8', '9\\t10']\n"
     ]
    }
   ],
   "source": [
    "# write code here\n",
    "file_name = \"/Users/apple/Documents/Machine-Learning/FILE HANDLING/utils/task3file.txt\"\n",
    "f = open(file_name, \"w\")\n",
    "for i in range(1, 11, 2):\n",
    "    line = '{}\\t{}\\n'.format(i, i+1)\n",
    "    f.write(line)\n",
    "f.close()\n",
    "\n",
    "with open(file_name, 'r') as f:\n",
    "    lines = f.read().splitlines()\n",
    "    print(lines)\n",
    "total = 0   \n",
    "with open(file_name, 'w') as f:\n",
    "    for line in lines:\n",
    "        a,b = line.split(sep=\"\\t\")\n",
    "        res = int(a) * int(b)\n",
    "        total+= res\n",
    "        f.write(\"{}\\t{}\\t{}\\n\".format(a,b, res))\n",
    "    f.write(\"Total\\t\"+str(total))"
   ]
  },
  {
   "cell_type": "markdown",
   "id": "b87aca6d",
   "metadata": {},
   "source": [
    "<h1>TASK4</h1>"
   ]
  },
  {
   "cell_type": "code",
   "execution_count": null,
   "id": "e52a4b29",
   "metadata": {},
   "outputs": [],
   "source": []
  },
  {
   "cell_type": "code",
   "execution_count": 8,
   "id": "513c62bb",
   "metadata": {},
   "outputs": [],
   "source": [
    "inpfile=\"/Users/apple/Documents/Machine-Learning/FILE HANDLING/utils/sample.txt\"\n",
    "otpfile=\"/Users/apple/Documents/Machine-Learning/FILE HANDLING/utils/sample1.txt\"\n",
    "\n",
    "with open(inpfile,'r')as f:\n",
    "    with open(otpfile,'w')as f1:\n",
    "        for i in f:\n",
    "                # print(i.rstrip()[::-1])\n",
    "                # print(i[::-1])\n",
    "                f1.write(i[::-1])"
   ]
  },
  {
   "cell_type": "markdown",
   "id": "3670018d",
   "metadata": {},
   "source": [
    "<h1>TASK 5</h1>"
   ]
  },
  {
   "cell_type": "code",
   "execution_count": 35,
   "id": "2e74e3df",
   "metadata": {},
   "outputs": [
    {
     "name": "stdout",
     "output_type": "stream",
     "text": [
      "{'alice': 2, 'wonder': 0, 'natural': 0}\n"
     ]
    }
   ],
   "source": [
    "L=['alice', 'wonder', 'natural']\n",
    "d={i:0 for i in L}\n",
    "\n",
    "inpfile=input(\"ENTER FILE\")\n",
    "with open(inpfile,'r') as f:\n",
    "    x=f.read()\n",
    "    for i in x.split(' '):\n",
    "         if i.lower() in L:\n",
    "            # print(i,end='\\n')\n",
    "            d[i.lower()]+=1\n",
    "\n",
    "print(d)"
   ]
  },
  {
   "cell_type": "code",
   "execution_count": null,
   "id": "3d5de3b9",
   "metadata": {},
   "outputs": [
    {
     "name": "stdout",
     "output_type": "stream",
     "text": [
      "{'alice': 0, 'wonder': 0, 'natural': 0}\n"
     ]
    }
   ],
   "source": []
  }
 ],
 "metadata": {
  "kernelspec": {
   "display_name": "virenv",
   "language": "python",
   "name": "python3"
  },
  "language_info": {
   "codemirror_mode": {
    "name": "ipython",
    "version": 3
   },
   "file_extension": ".py",
   "mimetype": "text/x-python",
   "name": "python",
   "nbconvert_exporter": "python",
   "pygments_lexer": "ipython3",
   "version": "3.12.7"
  }
 },
 "nbformat": 4,
 "nbformat_minor": 5
}
