{
 "cells": [
  {
   "cell_type": "code",
   "execution_count": 25,
   "id": "d254f74d",
   "metadata": {},
   "outputs": [],
   "source": [
    "def gen_demo():\n",
    "    print(\"hi\")\n",
    "    yield \"First\"\n",
    "    yield \"Second\"\n",
    "    yield \"Third\"\n",
    "    yield \"Fourth\""
   ]
  },
  {
   "cell_type": "code",
   "execution_count": 26,
   "id": "37e4db46",
   "metadata": {},
   "outputs": [],
   "source": [
    "gen=gen_demo()"
   ]
  },
  {
   "cell_type": "code",
   "execution_count": 27,
   "id": "f76733eb",
   "metadata": {},
   "outputs": [
    {
     "name": "stdout",
     "output_type": "stream",
     "text": [
      "hi\n",
      "First\n",
      "Second\n",
      "Third\n",
      "Fourth\n"
     ]
    }
   ],
   "source": [
    "for i in gen:\n",
    "    print(i)"
   ]
  },
  {
   "cell_type": "code",
   "execution_count": 30,
   "id": "443522a2",
   "metadata": {},
   "outputs": [],
   "source": [
    "def square(num):\n",
    "    for i in range(1,num+1):\n",
    "                yield(i**2)"
   ]
  },
  {
   "cell_type": "code",
   "execution_count": 31,
   "id": "b39a9d4f",
   "metadata": {},
   "outputs": [],
   "source": [
    "x=square(10)"
   ]
  },
  {
   "cell_type": "code",
   "execution_count": 32,
   "id": "47090d8e",
   "metadata": {},
   "outputs": [
    {
     "name": "stdout",
     "output_type": "stream",
     "text": [
      "1\n",
      "4\n",
      "9\n",
      "16\n",
      "25\n",
      "36\n",
      "49\n",
      "64\n",
      "81\n",
      "100\n"
     ]
    }
   ],
   "source": [
    "for i in x:\n",
    "    print(i)"
   ]
  },
  {
   "cell_type": "code",
   "execution_count": null,
   "id": "cb8f2d1f",
   "metadata": {},
   "outputs": [],
   "source": [
    "def MyRange(start,end):\n",
    "    for i in range(start,end):\n",
    "        yield(i)\n"
   ]
  },
  {
   "cell_type": "code",
   "execution_count": 34,
   "id": "7caebb77",
   "metadata": {},
   "outputs": [
    {
     "name": "stdout",
     "output_type": "stream",
     "text": [
      "15\n"
     ]
    }
   ],
   "source": [
    "gen=MyRange(15,26)\n",
    "print(next(gen))"
   ]
  },
  {
   "cell_type": "code",
   "execution_count": 35,
   "id": "f645b108",
   "metadata": {},
   "outputs": [
    {
     "name": "stdout",
     "output_type": "stream",
     "text": [
      "16\n",
      "17\n",
      "18\n",
      "19\n",
      "20\n",
      "21\n",
      "22\n",
      "23\n",
      "24\n",
      "25\n"
     ]
    }
   ],
   "source": [
    "for i in gen:\n",
    "    print(i)"
   ]
  },
  {
   "cell_type": "code",
   "execution_count": 36,
   "id": "15e5bf3d",
   "metadata": {},
   "outputs": [],
   "source": [
    "def all_even():\n",
    "    n=0\n",
    "    while True:\n",
    "        yield n\n",
    "        n+=2"
   ]
  },
  {
   "cell_type": "code",
   "execution_count": 39,
   "id": "253f870f",
   "metadata": {},
   "outputs": [],
   "source": [
    "x=all_even()"
   ]
  },
  {
   "cell_type": "code",
   "execution_count": 58,
   "id": "48139c3d",
   "metadata": {},
   "outputs": [],
   "source": [
    "def fibbonaci_number(nums):\n",
    "    x,y=0,1\n",
    "    for _ in range(nums):\n",
    "        x,y=y,x+y\n",
    "        yield x\n",
    "def square(nums):\n",
    "    for num in nums:\n",
    "        yield(num**2)\n",
    "\n",
    "# for i in fibbonaci_number(10)\n",
    "# print(square(fibbonaci_number(10)))\n",
    "\n",
    "x=square(fibbonaci_number(10))"
   ]
  },
  {
   "cell_type": "code",
   "execution_count": 59,
   "id": "74958a78",
   "metadata": {},
   "outputs": [
    {
     "name": "stdout",
     "output_type": "stream",
     "text": [
      "1\n",
      "1\n",
      "4\n",
      "9\n",
      "25\n",
      "64\n",
      "169\n",
      "441\n",
      "1156\n",
      "3025\n"
     ]
    }
   ],
   "source": [
    "for i in x:\n",
    "    print(i)"
   ]
  },
  {
   "cell_type": "code",
   "execution_count": null,
   "id": "01efc017",
   "metadata": {},
   "outputs": [],
   "source": []
  }
 ],
 "metadata": {
  "kernelspec": {
   "display_name": "virenv",
   "language": "python",
   "name": "python3"
  },
  "language_info": {
   "codemirror_mode": {
    "name": "ipython",
    "version": 3
   },
   "file_extension": ".py",
   "mimetype": "text/x-python",
   "name": "python",
   "nbconvert_exporter": "python",
   "pygments_lexer": "ipython3",
   "version": "3.12.7"
  }
 },
 "nbformat": 4,
 "nbformat_minor": 5
}
