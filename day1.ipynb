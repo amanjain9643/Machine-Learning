{
 "cells": [
  {
   "cell_type": "code",
   "execution_count": 5,
   "id": "d1cdb09f",
   "metadata": {},
   "outputs": [
    {
     "name": "stdout",
     "output_type": "stream",
     "text": [
      "4414688960\n",
      "4355514560\n",
      "4355514592\n",
      "4355514624\n",
      "4355514560\n",
      "4355514592\n",
      "4355514624\n"
     ]
    }
   ],
   "source": [
    "L=[1,2,3]\n",
    "print(id(L))\n",
    "print(id(L[0]))\n",
    "print(id(L[1]))\n",
    "print(id(L[2]))\n",
    "\n",
    "print(id(1))\n",
    "print(id(2))\n",
    "print(id(3))"
   ]
  },
  {
   "cell_type": "code",
   "execution_count": null,
   "id": "5c956c59",
   "metadata": {},
   "outputs": [],
   "source": []
  },
  {
   "cell_type": "code",
   "execution_count": 6,
   "id": "75836561",
   "metadata": {},
   "outputs": [
    {
     "data": {
      "text/plain": [
       "False"
      ]
     },
     "execution_count": 6,
     "metadata": {},
     "output_type": "execute_result"
    }
   ],
   "source": [
    "L=[1,2,3]\n",
    "L1=[3,2,1]\n",
    "L==L1"
   ]
  },
  {
   "cell_type": "code",
   "execution_count": 9,
   "id": "668219e1",
   "metadata": {},
   "outputs": [
    {
     "name": "stdout",
     "output_type": "stream",
     "text": [
      "[]\n",
      "[1, 2, 3, 4, 5]\n",
      "[1, 2, 3, [4, 5]]\n",
      "[1, 2, 3, (1+1j), 'hello', True]\n"
     ]
    }
   ],
   "source": [
    "print([])\n",
    "print([1,2,3,4,5])\n",
    "print([1,2,3,[4,5]])\n",
    "print([1,2,3,1+1j,\"hello\",True])"
   ]
  },
  {
   "cell_type": "code",
   "execution_count": 12,
   "id": "6943bf2e",
   "metadata": {},
   "outputs": [
    {
     "name": "stdout",
     "output_type": "stream",
     "text": [
      "[8, 7, 6, 5, 4, 3, 2, 1]\n"
     ]
    }
   ],
   "source": [
    "# Indexing\n",
    "L = [[[1,2],[3,4]],[[5,6],[7,8]]]\n",
    "#positive\n",
    "L=[1,2,3,4,5,6,7,8,9,10]\n",
    "print(L[-3::-1])"
   ]
  },
  {
   "cell_type": "code",
   "execution_count": 21,
   "id": "4c700033",
   "metadata": {},
   "outputs": [
    {
     "name": "stdout",
     "output_type": "stream",
     "text": [
      "[1, 2, 3, 4, 5, 6, [7, 8], 'd', 'e', 'l', 'h', 'i', 'delhi']\n"
     ]
    }
   ],
   "source": [
    "L=[1,2,3,4,5]\n",
    "L.append(6)\n",
    "L.extend([[7,8]])\n",
    "L.extend(\"delhi\")\n",
    "L.append(\"delhi\")\n",
    "print(L)"
   ]
  },
  {
   "cell_type": "code",
   "execution_count": 23,
   "id": "e6e7df82",
   "metadata": {},
   "outputs": [
    {
     "name": "stdout",
     "output_type": "stream",
     "text": [
      "[1, 200, 300, 400, 500]\n"
     ]
    }
   ],
   "source": [
    "L=[1,2,3,4,5]\n",
    "L[-1]=500\n",
    "L[1:4]=[200,300,400]\n",
    "print(L)\n",
    "del L[-1]"
   ]
  },
  {
   "cell_type": "code",
   "execution_count": 24,
   "id": "0e8f035b",
   "metadata": {},
   "outputs": [
    {
     "name": "stdout",
     "output_type": "stream",
     "text": [
      "[1, 2, 3, 4, 3, 5, 5, 6, 8, 7]\n"
     ]
    }
   ],
   "source": [
    "L=[1,2,3,4,3,5,5,6,7,8,7]\n",
    "L.remove(7)\n",
    "print(L)"
   ]
  },
  {
   "cell_type": "code",
   "execution_count": 25,
   "id": "63f443db",
   "metadata": {},
   "outputs": [
    {
     "name": "stdout",
     "output_type": "stream",
     "text": [
      "[1, 2, 3, 4, 5, 6, 7, 8, 9]\n"
     ]
    }
   ],
   "source": [
    "L1=[1,2,3,4,5]\n",
    "L2=[6,7,8,9]\n",
    "print(L1+L2)\n"
   ]
  },
  {
   "cell_type": "code",
   "execution_count": 26,
   "id": "e59e5d6e",
   "metadata": {},
   "outputs": [
    {
     "name": "stdout",
     "output_type": "stream",
     "text": [
      "[1, 2, 3, 4, 5, 1, 2, 3, 4, 5, 1, 2, 3, 4, 5]\n"
     ]
    }
   ],
   "source": [
    "print(L1*3)"
   ]
  },
  {
   "cell_type": "code",
   "execution_count": 28,
   "id": "348ee300",
   "metadata": {},
   "outputs": [
    {
     "name": "stdout",
     "output_type": "stream",
     "text": [
      "True\n"
     ]
    }
   ],
   "source": [
    "print(6 not in L1)"
   ]
  },
  {
   "cell_type": "code",
   "execution_count": 32,
   "id": "f9f73451",
   "metadata": {},
   "outputs": [
    {
     "name": "stdout",
     "output_type": "stream",
     "text": [
      "1\n",
      "6\n",
      "[6, 5, 5, 5, 5, 5, 5, 5, 5, 4, 3, 2, 1]\n",
      "8\n"
     ]
    }
   ],
   "source": [
    "L=[1,2,3,4,5,6,5,5,5,5,5,5,5]\n",
    "print(min(L))\n",
    "print(max(L))\n",
    "print(sorted(L,reverse=True))\n",
    "print(L.count(5))"
   ]
  },
  {
   "cell_type": "code",
   "execution_count": 18,
   "id": "0d206f13",
   "metadata": {},
   "outputs": [
    {
     "data": {
      "text/plain": [
       "dict_values([2, 4, 6])"
      ]
     },
     "execution_count": 18,
     "metadata": {},
     "output_type": "execute_result"
    }
   ],
   "source": [
    "L = [1,2,1,2,3,4,5,3,4]\n",
    "L1={1:2,3:4,5:6}\n",
    "x=L1.values()\n",
    "x"
   ]
  },
  {
   "cell_type": "code",
   "execution_count": null,
   "id": "49e76d73",
   "metadata": {},
   "outputs": [
    {
     "data": {
      "text/plain": [
       "['campusx Is', 'best For', 'data Scientist']"
      ]
     },
     "execution_count": 36,
     "metadata": {},
     "output_type": "execute_result"
    }
   ],
   "source": [
    "# Problem 10: Add Space between Potential Words.\n",
    "\n",
    "L=['campusxIs', 'bestFor', 'dataScientist']\n",
    "L1=[]\n",
    "for i in L:\n",
    "    str=\"\"\n",
    "    for j in i:\n",
    "        if j==j.capitalize():\n",
    "            str+=\" \"\n",
    "            str+=j\n",
    "        else :\n",
    "            str+=j\n",
    "    L1.append(str)\n",
    "    \n",
    "\n",
    "L1"
   ]
  },
  {
   "cell_type": "code",
   "execution_count": 38,
   "id": "a19b0175",
   "metadata": {},
   "outputs": [
    {
     "name": "stdout",
     "output_type": "stream",
     "text": [
      "campux is best channel \n"
     ]
    }
   ],
   "source": [
    "# Problem 9: Convert Character Matrix to single String using string comprehension.\n",
    "\n",
    "L=[['c', 'a', 'm', 'p', 'u', 'x'], ['i', 's'], ['b', 'e', 's', 't'], ['c', 'h', 'a', 'n', 'n', 'e', 'l']]\n",
    "\n",
    "s=\"\"\n",
    "for i in L:\n",
    "    for j in i:\n",
    "        s+=j\n",
    "    s+=\" \"\n",
    "print(s)"
   ]
  },
  {
   "cell_type": "code",
   "execution_count": 43,
   "id": "deb244bc",
   "metadata": {},
   "outputs": [
    {
     "data": {
      "text/plain": [
       "['CampusX', 'is', 'a', 'channel', 'for', 'data-science', 'aspirants.']"
      ]
     },
     "execution_count": 43,
     "metadata": {},
     "output_type": "execute_result"
    }
   ],
   "source": [
    "# Problem 8: Split String of list on K character.\n",
    "\n",
    "L=['CampusX is a channel', 'for data-science', 'aspirants.']\n",
    "L1=[]\n",
    "s=\"\"\n",
    "for i in L:\n",
    "    for j in i:\n",
    "        if j==\" \":\n",
    "            L1.append(s)\n",
    "            s=\"\"\n",
    "        else :\n",
    "            s+=j\n",
    "    L1.append(s)\n",
    "    s=\"\"\n",
    "L1"
   ]
  },
  {
   "cell_type": "code",
   "execution_count": 99,
   "id": "8356c8f0",
   "metadata": {},
   "outputs": [],
   "source": [
    "# Problem 7: Sort a list of alphanumeric strings based on product value of numeric character in it. If in any string there is no numeric character take it's product value as 1.\n",
    "\n",
    "L=['1ac21', '23fg', '456', '098d','1','kls']\n",
    "L1=[]\n",
    "for i in L:\n",
    "    pr=1\n",
    "    for j in i:\n",
    "        if j.isdigit():\n",
    "            pr*=int(j)\n",
    "    L1.append(pr)\n",
    "    pr=1\n",
    "\n",
    "    list(zip(L,L1))\n",
    "# L2=[x for x in sorted(zip(D1.values()),L)]\n"
   ]
  },
  {
   "cell_type": "code",
   "execution_count": 2,
   "id": "c6f9be43",
   "metadata": {},
   "outputs": [
    {
     "data": {
      "text/plain": [
       "['apple']"
      ]
     },
     "execution_count": 2,
     "metadata": {},
     "output_type": "execute_result"
    }
   ],
   "source": [
    "# Nested if with List Comprehension\n",
    "basket = ['apple','guava','cherry','banana']\n",
    "fruits = ['apple','kiwi','grapes','banana']\n",
    "\n",
    "# add new list from my_fruits and items if the fruit exists in basket and also starts with 'a'\n",
    "\n",
    "L=[i for i in fruits if i in basket if i.startswith('a')]\n",
    "L"
   ]
  },
  {
   "cell_type": "code",
   "execution_count": 4,
   "id": "684fee9f",
   "metadata": {},
   "outputs": [
    {
     "data": {
      "text/plain": [
       "[[1, 2, 3], [2, 4, 6], [3, 6, 9]]"
      ]
     },
     "execution_count": 4,
     "metadata": {},
     "output_type": "execute_result"
    }
   ],
   "source": [
    "# Print a (3,3) matrix using list comprehension -> Nested List comprehension\n",
    "\n",
    "L=[[i*j for i in range(1,4)]for j in range(1,4) ]\n",
    "L"
   ]
  },
  {
   "cell_type": "code",
   "execution_count": 8,
   "id": "6c4c4218",
   "metadata": {},
   "outputs": [
    {
     "data": {
      "text/plain": [
       "[('AMAN', 'JAIN'),\n",
       " ('RAHUL', 'SINGH'),\n",
       " ('HARSHIT', 'KHURANA'),\n",
       " ('RISHABH', 'KATHERIA')]"
      ]
     },
     "execution_count": 8,
     "metadata": {},
     "output_type": "execute_result"
    }
   ],
   "source": [
    "L1=[\"AMAN\",\"RAHUL\",\"HARSHIT\",\"RISHABH\"]\n",
    "L2=[\"JAIN\",\"SINGH\",\"KHURANA\",\"KATHERIA\"]\n",
    "\n",
    "L3=list(zip(L1,L2))\n",
    "L3\n",
    "# [i+j for i,j in zip(L1,L2)]\n"
   ]
  },
  {
   "cell_type": "code",
   "execution_count": 10,
   "id": "a869e376",
   "metadata": {},
   "outputs": [
    {
     "name": "stdout",
     "output_type": "stream",
     "text": [
      "[1, 3, 5, 7]\n",
      "[2, 4, 6, 8]\n"
     ]
    }
   ],
   "source": [
    "L1=[1,2,3,4,5,6,7,8]\n",
    "ODD=[]\n",
    "EVEN=[]\n",
    "\n",
    "for i in L1:\n",
    "    if i%2:\n",
    "        ODD.append(i)\n",
    "    else :\n",
    "        EVEN.append(i)\n",
    "\n",
    "print(ODD)\n",
    "print(EVEN)"
   ]
  },
  {
   "cell_type": "code",
   "execution_count": 12,
   "id": "c2870ff9",
   "metadata": {},
   "outputs": [
    {
     "data": {
      "text/plain": [
       "[1, 2, 3, 4, 5]"
      ]
     },
     "execution_count": 12,
     "metadata": {},
     "output_type": "execute_result"
    }
   ],
   "source": [
    "L=[]\n",
    "n = int(input(\"enter size\"))\n",
    "\n",
    "for i in range(0,n):\n",
    "    a=int(input(\"enter number\"))\n",
    "    L.append(a)\n",
    "\n",
    "L\n"
   ]
  },
  {
   "cell_type": "code",
   "execution_count": 26,
   "id": "9d275050",
   "metadata": {},
   "outputs": [
    {
     "data": {
      "text/plain": [
       "[1, 2, 3, 4, 5, 5, 6, 7, 8]"
      ]
     },
     "execution_count": 26,
     "metadata": {},
     "output_type": "execute_result"
    }
   ],
   "source": [
    "# Write a program to merge 2 list without using the + operator\n",
    "\n",
    "L1=[1,2,3,4,5]\n",
    "L2=[5,6,7,8]\n",
    "\n",
    "L3=L1.copy()\n",
    "L3.extend(L2)\n",
    "\n",
    "L3\n"
   ]
  },
  {
   "cell_type": "code",
   "execution_count": 31,
   "id": "516b38c0",
   "metadata": {},
   "outputs": [
    {
     "name": "stdout",
     "output_type": "stream",
     "text": [
      "[1, 2, 300, 4, 5, 300]\n"
     ]
    }
   ],
   "source": [
    "# Write a program to replace an item with a different item if found in the list \n",
    "L = [1,2,3,4,5,3]\n",
    "# replace 3 with 300\n",
    "\n",
    "for i in range(0,len(L)):\n",
    "    if L[i]==3:\n",
    "        L[i]=300\n",
    "\n",
    "print(L)"
   ]
  },
  {
   "cell_type": "code",
   "execution_count": 34,
   "id": "03d4da6c",
   "metadata": {},
   "outputs": [
    {
     "data": {
      "text/plain": [
       "[1, 2, 3, 4, 5, 6, 7, 8]"
      ]
     },
     "execution_count": 34,
     "metadata": {},
     "output_type": "execute_result"
    }
   ],
   "source": [
    "L=[[1,2,3,4],[5,6,7,8]]\n",
    "L1=[]\n",
    "for i in L:\n",
    "    for j in i:\n",
    "        L1.append(j)\n",
    "\n",
    "L1\n"
   ]
  },
  {
   "cell_type": "code",
   "execution_count": 41,
   "id": "f23c0435",
   "metadata": {},
   "outputs": [
    {
     "name": "stdout",
     "output_type": "stream",
     "text": [
      "NOT SORTED\n"
     ]
    }
   ],
   "source": [
    "L=[1,2,3,4,5,6,1,2,3,4,5]\n",
    "L1=[]\n",
    "for i in L:\n",
    "    if i in L1:\n",
    "        continue\n",
    "    else :\n",
    "        L1.append(i)\n",
    "\n",
    "for i in range(0,len(L)-1):\n",
    "    if L[i]<L[i+1]:\n",
    "        continue\n",
    "    else :\n",
    "        print(\"NOT SORTED\")\n",
    "\n",
    "\n",
    "\n"
   ]
  },
  {
   "cell_type": "markdown",
   "id": "fa205fc9",
   "metadata": {},
   "source": [
    "<h1 style=\"color: ORANGE;\">PROLEM TASKS</h1>"
   ]
  },
  {
   "cell_type": "code",
   "execution_count": null,
   "id": "e9b68555",
   "metadata": {},
   "outputs": [
    {
     "data": {
      "text/plain": [
       "[['M', 'y'], ['na', 'me'], ['i', 's'], ['Kh', 'an'], ['jignesh']]"
      ]
     },
     "execution_count": 68,
     "metadata": {},
     "output_type": "execute_result"
    }
   ],
   "source": [
    "L1 = [\"M\", \"na\", \"i\", \"Kh\"]\n",
    "L2 = [\"y\", \"me\", \"s\", \"an\",\"jignesh\"]\n",
    "\n",
    "list(zip(L1,L2))\n",
    "\n",
    "L3=[[i,j] for i,j in zip(L1,L2)]\n",
    "\n",
    "size=max(len(L1),len(L2))\n",
    "size\n",
    "\n",
    "if len(L1)==size:\n",
    "    for i in range(len(L2)+1,len(L1)):\n",
    "        L3.append([L1[i]])\n",
    "\n",
    "if len(L2)==size:\n",
    "    for i in range(len(L1),len(L2)):\n",
    "        L3.append([L2[i]])\n",
    "L3"
   ]
  },
  {
   "cell_type": "code",
   "execution_count": 97,
   "id": "98a6d676",
   "metadata": {},
   "outputs": [
    {
     "data": {
      "text/plain": [
       "[10, 20, 6000, 7000, [300, 400, [5000, 6000], 500], 30, 40]"
      ]
     },
     "execution_count": 97,
     "metadata": {},
     "output_type": "execute_result"
    }
   ],
   "source": [
    "# Write a program to add item 7000 after 6000 in the following Python List\n",
    "L=[10, 20,6000, [300, 400,[5000, 6000], 500], 30, 40]\n",
    "for i in range(0,len(L)):\n",
    "    if(L[i]==6000):\n",
    "        L.insert(i+1,7000)\n",
    "        continue\n",
    "L"
   ]
  },
  {
   "cell_type": "code",
   "execution_count": 98,
   "id": "a60ab07e",
   "metadata": {},
   "outputs": [
    {
     "data": {
      "text/plain": [
       "[('Jelly Belly', 10),\n",
       " ('Kit Kat', 20),\n",
       " ('Double Bubble', 34),\n",
       " ('Milky Way', 74),\n",
       " ('Three Musketeers', 32)]"
      ]
     },
     "execution_count": 98,
     "metadata": {},
     "output_type": "execute_result"
    }
   ],
   "source": [
    "L1 = ['Jelly Belly','Kit Kat','Double Bubble','Milky Way','Three Musketeers']\n",
    "L2 = [10,20,34,74,32]\n",
    "list(zip(L1,L2))\n"
   ]
  },
  {
   "cell_type": "code",
   "execution_count": null,
   "id": "93af5218",
   "metadata": {},
   "outputs": [
    {
     "name": "stdout",
     "output_type": "stream",
     "text": [
      "456 23fg 1ac21 kls 1 098d "
     ]
    }
   ],
   "source": [
    "L=['1ac21', '23fg', '456', '098d','1','kls']\n",
    "L1=[]\n",
    "for i in L:\n",
    "    pr=1\n",
    "    for j in i:\n",
    "        if j.isdigit():\n",
    "            pr*=int(j)\n",
    "            # print(pr)\n",
    "    L1.append(pr)\n",
    "    pr=1\n",
    "\n",
    "\n",
    "L2=list(zip(L1,L))\n",
    "L2.sort()\n",
    "L2.reverse()\n",
    "# L2\n",
    "for i,j in L2:\n",
    "    print(j,end=\" \")"
   ]
  },
  {
   "cell_type": "code",
   "execution_count": null,
   "id": "ef9a8694",
   "metadata": {},
   "outputs": [
    {
     "data": {
      "text/plain": [
       "[1, 2, 3, 4, 5, 7, 8]"
      ]
     },
     "execution_count": 122,
     "metadata": {},
     "output_type": "execute_result"
    }
   ],
   "source": [
    "# Problem 11: Write a program that can perform union operation on 2 lists\n",
    "L=[1,2,3,4,5,1]\n",
    "L1=[2,3,5,7,8]\n",
    "\n",
    "L2=[]\n",
    "\n",
    "for i in L:\n",
    "    if i not in L2:\n",
    "        L2.append(i)\n",
    "for i in L1:\n",
    "    if i not in L2:\n",
    "        L2.append(i)\n",
    "y\n",
    "L2"
   ]
  }
 ],
 "metadata": {
  "kernelspec": {
   "display_name": ".venv",
   "language": "python",
   "name": "python3"
  },
  "language_info": {
   "codemirror_mode": {
    "name": "ipython",
    "version": 3
   },
   "file_extension": ".py",
   "mimetype": "text/x-python",
   "name": "python",
   "nbconvert_exporter": "python",
   "pygments_lexer": "ipython3",
   "version": "3.13.2"
  }
 },
 "nbformat": 4,
 "nbformat_minor": 5
}
