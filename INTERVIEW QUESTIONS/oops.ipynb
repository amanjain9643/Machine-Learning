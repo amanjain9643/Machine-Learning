{
 "cells": [
  {
   "cell_type": "code",
   "execution_count": 7,
   "id": "8c5bc0d2",
   "metadata": {},
   "outputs": [
    {
     "name": "stdout",
     "output_type": "stream",
     "text": [
      "constr\n",
      "['__class__', '__del__', '__delattr__', '__dict__', '__dir__', '__doc__', '__eq__', '__format__', '__ge__', '__getattribute__', '__getstate__', '__gt__', '__hash__', '__init__', '__init_subclass__', '__le__', '__lt__', '__module__', '__ne__', '__new__', '__reduce__', '__reduce_ex__', '__repr__', '__setattr__', '__sizeof__', '__str__', '__subclasshook__', '__weakref__']\n"
     ]
    },
    {
     "data": {
      "text/plain": [
       "True"
      ]
     },
     "execution_count": 7,
     "metadata": {},
     "output_type": "execute_result"
    }
   ],
   "source": [
    "# DESTRUCTOR\n",
    "\n",
    "class Student:\n",
    "     def __init__(self):\n",
    "          print(\"constr\")\n",
    "    \n",
    "     def __del__(self):\n",
    "          print(\"dest calleds\")\n",
    "\n",
    "obj1=Student()\n",
    "print(dir(obj1))\n",
    "\n",
    "#is instance\n",
    "\n",
    "isinstance(obj1,Student)"
   ]
  },
  {
   "cell_type": "code",
   "execution_count": null,
   "id": "370d73ec",
   "metadata": {},
   "outputs": [
    {
     "data": {
      "text/plain": [
       "{1, 2, 3}"
      ]
     },
     "execution_count": 2,
     "metadata": {},
     "output_type": "execute_result"
    }
   ],
   "source": [
    "# IS INSTANCE\n"
   ]
  },
  {
   "cell_type": "code",
   "execution_count": 14,
   "id": "e63f7f62",
   "metadata": {},
   "outputs": [
    {
     "name": "stdout",
     "output_type": "stream",
     "text": [
      "'2025-06-27 12:30:25.443093'\n",
      "datetime.datetime(2025, 6, 27, 12, 30, 25, 443093)\n",
      "2025-06-27 12:30:25.443093\n"
     ]
    }
   ],
   "source": [
    "import datetime\n",
    "\n",
    "a=datetime.datetime.now()\n",
    "b=str(a)\n",
    "\n",
    "\n",
    "print(repr(b))\n",
    "print(repr(a))\n",
    "print(b)"
   ]
  },
  {
   "cell_type": "code",
   "execution_count": null,
   "id": "be460f8c",
   "metadata": {},
   "outputs": [],
   "source": []
  }
 ],
 "metadata": {
  "kernelspec": {
   "display_name": "virenv",
   "language": "python",
   "name": "python3"
  },
  "language_info": {
   "codemirror_mode": {
    "name": "ipython",
    "version": 3
   },
   "file_extension": ".py",
   "mimetype": "text/x-python",
   "name": "python",
   "nbconvert_exporter": "python",
   "pygments_lexer": "ipython3",
   "version": "3.12.7"
  }
 },
 "nbformat": 4,
 "nbformat_minor": 5
}
